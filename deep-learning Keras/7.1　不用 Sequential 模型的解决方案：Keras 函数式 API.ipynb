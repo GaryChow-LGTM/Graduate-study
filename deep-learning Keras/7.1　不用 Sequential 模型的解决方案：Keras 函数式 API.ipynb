{
 "cells": [
  {
   "cell_type": "markdown",
   "metadata": {},
   "source": [
    "## 7.1.1 函数式API 介绍"
   ]
  },
  {
   "cell_type": "code",
   "execution_count": 42,
   "metadata": {},
   "outputs": [],
   "source": [
    "from tensorflow.keras import Input, layers"
   ]
  },
  {
   "cell_type": "code",
   "execution_count": 43,
   "metadata": {},
   "outputs": [],
   "source": [
    "input_tensor = Input(shape=(32,))  #输入张量"
   ]
  },
  {
   "cell_type": "code",
   "execution_count": 44,
   "metadata": {},
   "outputs": [],
   "source": [
    "dense = layers.Dense(32,activation='relu') #设定一层神经层"
   ]
  },
  {
   "cell_type": "code",
   "execution_count": 45,
   "metadata": {},
   "outputs": [],
   "source": [
    "output_tensor = dense(input_tensor) \n",
    "#将input_tensor 放入神经层中进行运算 得到结果 output_tensor\n",
    "#可以在一个张量上调用一个层,它会返回一个张量"
   ]
  },
  {
   "cell_type": "code",
   "execution_count": 48,
   "metadata": {},
   "outputs": [],
   "source": [
    "from tensorflow.keras import Sequential, Model\n",
    "from tensorflow.keras import layers\n",
    "from tensorflow.keras import Input\n",
    "\n",
    "seq_model = Sequential() #前面所学的 Sequential 模型\n",
    "seq_model.add(layers.Dense(32, activation = 'relu',input_shape=(64,)))\n",
    "seq_model.add(layers.Dense(32, activation = 'relu'))\n",
    "seq_model.add(layers.Dense(10, activation = 'softmax'))\n",
    "\n",
    "\n",
    "#以下 4 行为对应的函数式 API 实现\n",
    "input_tensor = Input(shape=(64,)) \n",
    "x = layers.Dense(32, activation = 'relu')(input_tensor)\n",
    "x = layers.Dense(32, activation = 'relu')(x)\n",
    "output_tensor = layers.Dense(10, activation = 'softmax')(x)\n",
    "\n",
    "model = Model(input_tensor,output_tensor) #Model 类将输入张量和输出张量转为模型"
   ]
  },
  {
   "cell_type": "code",
   "execution_count": 49,
   "metadata": {},
   "outputs": [
    {
     "name": "stdout",
     "output_type": "stream",
     "text": [
      "Model: \"model_5\"\n",
      "_________________________________________________________________\n",
      "Layer (type)                 Output Shape              Param #   \n",
      "=================================================================\n",
      "input_7 (InputLayer)         [(None, 64)]              0         \n",
      "_________________________________________________________________\n",
      "dense_55 (Dense)             (None, 32)                2080      \n",
      "_________________________________________________________________\n",
      "dense_56 (Dense)             (None, 32)                1056      \n",
      "_________________________________________________________________\n",
      "dense_57 (Dense)             (None, 10)                330       \n",
      "=================================================================\n",
      "Total params: 3,466\n",
      "Trainable params: 3,466\n",
      "Non-trainable params: 0\n",
      "_________________________________________________________________\n"
     ]
    }
   ],
   "source": [
    "model.summary()"
   ]
  },
  {
   "cell_type": "code",
   "execution_count": 51,
   "metadata": {},
   "outputs": [],
   "source": [
    "model.compile(optimizer='rmsprop',loss='categorical_crossentropy') #编译模型"
   ]
  },
  {
   "cell_type": "code",
   "execution_count": 52,
   "metadata": {},
   "outputs": [
    {
     "name": "stdout",
     "output_type": "stream",
     "text": [
      "Epoch 1/10\n",
      "1000/1000 [==============================] - 0s 164us/sample - loss: 11.8162\n",
      "Epoch 2/10\n",
      "1000/1000 [==============================] - 0s 12us/sample - loss: 12.7320\n",
      "Epoch 3/10\n",
      "1000/1000 [==============================] - 0s 13us/sample - loss: 14.4509\n",
      "Epoch 4/10\n",
      "1000/1000 [==============================] - 0s 13us/sample - loss: 16.9897\n",
      "Epoch 5/10\n",
      "1000/1000 [==============================] - 0s 13us/sample - loss: 20.1216\n",
      "Epoch 6/10\n",
      "1000/1000 [==============================] - 0s 12us/sample - loss: 23.6277\n",
      "Epoch 7/10\n",
      "1000/1000 [==============================] - 0s 16us/sample - loss: 28.1449\n",
      "Epoch 8/10\n",
      "1000/1000 [==============================] - 0s 12us/sample - loss: 33.4308\n",
      "Epoch 9/10\n",
      "1000/1000 [==============================] - 0s 15us/sample - loss: 39.3006\n",
      "Epoch 10/10\n",
      "1000/1000 [==============================] - 0s 16us/sample - loss: 45.8896\n",
      "1000/1000 [==============================] - 0s 63us/sample - loss: 49.9331\n"
     ]
    }
   ],
   "source": [
    "import numpy as np\n",
    "x_train = np.random.random((1000,64))\n",
    "y_train = np.random.random((1000,10))\n",
    "\n",
    "model.fit(x_train, y_train, epochs=10,batch_size=128) #训练十轮\n",
    "\n",
    "score = model.evaluate(x_train,y_train) #评估模型"
   ]
  },
  {
   "cell_type": "markdown",
   "metadata": {},
   "source": [
    "## 7.1.2 多输入模型"
   ]
  },
  {
   "cell_type": "code",
   "execution_count": 1,
   "metadata": {},
   "outputs": [],
   "source": [
    "from tensorflow.keras.models import Model\n",
    "from tensorflow.keras import layers\n",
    "from tensorflow.keras import Input"
   ]
  },
  {
   "cell_type": "code",
   "execution_count": 4,
   "metadata": {},
   "outputs": [],
   "source": [
    "text_vocabulary_size = 10000\n",
    "question_vocabulary_size = 10000\n",
    "answer_vocabulary_size = 500\n",
    "\n",
    "text_input = Input(shape=(None,),dtype='int32',name='text') # 文本输入是一个长度可变的整数序列。注意，你可以选择对输入进行命名\n",
    "\n",
    "embedded_text = layers.Embedding(text_vocabulary_size,64)(text_input)  # 将输入嵌入长度为 64 的向量\n",
    "\n",
    "encoded_text = layers.LSTM(32)(embedded_text) # 利用 LSTM 将向量编码为单个向量\n",
    "\n",
    "question_input = Input(shape=(None,),\n",
    "                      dtype='int32',\n",
    "                      name='question')  # 对问题进行相同的处理（使用不同的层实例）\n",
    "\n",
    "embedded_question = layers.Embedding(question_vocabulary_size,32)(question_input)\n",
    "\n",
    "encoded_question = layers.LSTM(16)(embedded_question)\n",
    "\n",
    "concatenated = layers.concatenate([encoded_text,encoded_question],axis=-1) # 将编码后的问题和文本连接起来\n",
    "\n",
    "answer = layers.Dense(answer_vocabulary_size, activation='softmax')(concatenated) # 在上面添加一层 softmax 分类器\n",
    "\n",
    "model = Model([text_input, question_input], answer) # 模型实例化时,指定两个输入和输出\n",
    "\n",
    "model.compile('rmsprop','categorical_crossentropy',['acc'])"
   ]
  },
  {
   "cell_type": "code",
   "execution_count": 5,
   "metadata": {},
   "outputs": [
    {
     "name": "stdout",
     "output_type": "stream",
     "text": [
      "Model: \"model_2\"\n",
      "__________________________________________________________________________________________________\n",
      "Layer (type)                    Output Shape         Param #     Connected to                     \n",
      "==================================================================================================\n",
      "text (InputLayer)               [(None, None)]       0                                            \n",
      "__________________________________________________________________________________________________\n",
      "question (InputLayer)           [(None, None)]       0                                            \n",
      "__________________________________________________________________________________________________\n",
      "embedding_4 (Embedding)         (None, None, 64)     640000      text[0][0]                       \n",
      "__________________________________________________________________________________________________\n",
      "embedding_5 (Embedding)         (None, None, 32)     320000      question[0][0]                   \n",
      "__________________________________________________________________________________________________\n",
      "unified_lstm_4 (UnifiedLSTM)    (None, 32)           12416       embedding_4[0][0]                \n",
      "__________________________________________________________________________________________________\n",
      "unified_lstm_5 (UnifiedLSTM)    (None, 16)           3136        embedding_5[0][0]                \n",
      "__________________________________________________________________________________________________\n",
      "concatenate_2 (Concatenate)     (None, 48)           0           unified_lstm_4[0][0]             \n",
      "                                                                 unified_lstm_5[0][0]             \n",
      "__________________________________________________________________________________________________\n",
      "dense_2 (Dense)                 (None, 500)          24500       concatenate_2[0][0]              \n",
      "==================================================================================================\n",
      "Total params: 1,000,052\n",
      "Trainable params: 1,000,052\n",
      "Non-trainable params: 0\n",
      "__________________________________________________________________________________________________\n"
     ]
    }
   ],
   "source": [
    "model.summary()"
   ]
  },
  {
   "cell_type": "code",
   "execution_count": 7,
   "metadata": {},
   "outputs": [
    {
     "name": "stdout",
     "output_type": "stream",
     "text": [
      "Epoch 1/10\n",
      "1000/1000 [==============================] - 1s 1ms/sample - loss: 6.2146 - acc: 0.0040\n",
      "Epoch 2/10\n",
      "1000/1000 [==============================] - 1s 771us/sample - loss: 6.1950 - acc: 0.0300\n",
      "Epoch 3/10\n",
      "1000/1000 [==============================] - 1s 703us/sample - loss: 6.1190 - acc: 0.0070\n",
      "Epoch 4/10\n",
      "1000/1000 [==============================] - 1s 708us/sample - loss: 6.0377 - acc: 0.0090\n",
      "Epoch 5/10\n",
      "1000/1000 [==============================] - 1s 626us/sample - loss: 5.9685 - acc: 0.0090\n",
      "Epoch 6/10\n",
      "1000/1000 [==============================] - 1s 608us/sample - loss: 5.8951 - acc: 0.0100\n",
      "Epoch 7/10\n",
      "1000/1000 [==============================] - 1s 678us/sample - loss: 5.8097 - acc: 0.0110\n",
      "Epoch 8/10\n",
      "1000/1000 [==============================] - 1s 624us/sample - loss: 5.7478 - acc: 0.0110\n",
      "Epoch 9/10\n",
      "1000/1000 [==============================] - 1s 625us/sample - loss: 5.6454 - acc: 0.0250\n",
      "Epoch 10/10\n",
      "1000/1000 [==============================] - 1s 637us/sample - loss: 5.5762 - acc: 0.0320\n"
     ]
    },
    {
     "ename": "NameError",
     "evalue": "name 'quesiton' is not defined",
     "output_type": "error",
     "traceback": [
      "\u001b[0;31m---------------------------------------------------------------------------\u001b[0m",
      "\u001b[0;31mNameError\u001b[0m                                 Traceback (most recent call last)",
      "\u001b[0;32m<ipython-input-7-23bed74ee7dd>\u001b[0m in \u001b[0;36m<module>\u001b[0;34m\u001b[0m\n\u001b[1;32m     15\u001b[0m \u001b[0mmodel\u001b[0m\u001b[0;34m.\u001b[0m\u001b[0mfit\u001b[0m\u001b[0;34m(\u001b[0m\u001b[0;34m[\u001b[0m\u001b[0mtext\u001b[0m\u001b[0;34m,\u001b[0m \u001b[0mquestion\u001b[0m\u001b[0;34m]\u001b[0m\u001b[0;34m,\u001b[0m \u001b[0manswers\u001b[0m\u001b[0;34m,\u001b[0m \u001b[0mepochs\u001b[0m\u001b[0;34m=\u001b[0m\u001b[0;36m10\u001b[0m\u001b[0;34m,\u001b[0m \u001b[0mbatch_size\u001b[0m\u001b[0;34m=\u001b[0m\u001b[0;36m128\u001b[0m\u001b[0;34m)\u001b[0m \u001b[0;31m#使用输入组成的列表来拟合\u001b[0m\u001b[0;34m\u001b[0m\u001b[0;34m\u001b[0m\u001b[0m\n\u001b[1;32m     16\u001b[0m \u001b[0;34m\u001b[0m\u001b[0m\n\u001b[0;32m---> 17\u001b[0;31m \u001b[0mmodel\u001b[0m\u001b[0;34m.\u001b[0m\u001b[0mfit\u001b[0m\u001b[0;34m(\u001b[0m\u001b[0;34m{\u001b[0m\u001b[0;34m'text'\u001b[0m\u001b[0;34m:\u001b[0m \u001b[0mtext\u001b[0m\u001b[0;34m,\u001b[0m\u001b[0;34m'question'\u001b[0m\u001b[0;34m:\u001b[0m \u001b[0mquesiton\u001b[0m\u001b[0;34m}\u001b[0m\u001b[0;34m,\u001b[0m\u001b[0manswers\u001b[0m\u001b[0;34m,\u001b[0m \u001b[0mepochs\u001b[0m\u001b[0;34m=\u001b[0m\u001b[0;36m10\u001b[0m\u001b[0;34m,\u001b[0m \u001b[0mbatch_size\u001b[0m\u001b[0;34m=\u001b[0m\u001b[0;36m128\u001b[0m\u001b[0;34m)\u001b[0m\u001b[0;34m\u001b[0m\u001b[0;34m\u001b[0m\u001b[0m\n\u001b[0m",
      "\u001b[0;31mNameError\u001b[0m: name 'quesiton' is not defined"
     ]
    }
   ],
   "source": [
    "import numpy as np\n",
    "import tensorflow\n",
    "num_samples = 1000\n",
    "max_length = 100\n",
    "\n",
    "text = np.random.randint(1, text_vocabulary_size, size=(num_samples,max_length))  # 生成虚构的 numpy 数据\n",
    "\"\"\"numpy.random.randint(low, high=None, size=None, dtype='l')\n",
    "返回一个随机整型数，范围从低（包括）到高（不包括），即[low, high)。\n",
    "如果没有写参数high的值，则返回[0,low)的值。\"\"\"\n",
    "question = np.random.randint(1, question_vocabulary_size, size=(num_samples, max_length))\n",
    "\n",
    "answers = np.random.randint(answer_vocabulary_size, size=(num_samples))\n",
    "answers = tensorflow.keras.utils.to_categorical(answers, answer_vocabulary_size) #回答是one-hot编码的，不是整数\n",
    "\n",
    "model.fit([text, question], answers, epochs=10, batch_size=128) #使用输入组成的列表来拟合\n",
    "\n",
    "model.fit({'text': text,'question': quesiton},answers, epochs=10, batch_size=128)"
   ]
  },
  {
   "cell_type": "code",
   "execution_count": null,
   "metadata": {},
   "outputs": [],
   "source": []
  }
 ],
 "metadata": {
  "kernelspec": {
   "display_name": "Python 3.6 (tensorflow)",
   "language": "python",
   "name": "tensorflow"
  },
  "language_info": {
   "codemirror_mode": {
    "name": "ipython",
    "version": 3
   },
   "file_extension": ".py",
   "mimetype": "text/x-python",
   "name": "python",
   "nbconvert_exporter": "python",
   "pygments_lexer": "ipython3",
   "version": "3.7.3"
  }
 },
 "nbformat": 4,
 "nbformat_minor": 2
}
