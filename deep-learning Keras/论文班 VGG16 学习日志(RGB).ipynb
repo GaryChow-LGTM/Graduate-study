{
 "cells": [
  {
   "cell_type": "markdown",
   "metadata": {},
   "source": [
    "## 图像预处理"
   ]
  },
  {
   "cell_type": "code",
   "execution_count": 1,
   "metadata": {},
   "outputs": [],
   "source": [
    "import numpy as np\n",
    "from PIL import Image\n",
    "from pylab import *\n",
    "import tensorflow as tf"
   ]
  },
  {
   "cell_type": "code",
   "execution_count": 3,
   "metadata": {},
   "outputs": [
    {
     "name": "stdout",
     "output_type": "stream",
     "text": [
      "384 256\n"
     ]
    }
   ],
   "source": [
    "S = 256\n",
    "crop_size = 224\n",
    "\n",
    "image_path = r'C:\\Users\\iceic\\Desktop\\1.png'\n",
    "or_image = Image.open(image_path)\n",
    "or_image.show()\n",
    "\n",
    "image_w,image_h = or_image.size  #获得图片的长宽\n",
    "\n",
    "scale = S/(min(image_h,image_w)) # 0.4 将图片最小边缩小为 224\n",
    "\n",
    "#计算等比缩放后图像的长宽\n",
    "new_w = np.int(image_w*scale)\n",
    "new_h = np.int(image_h*scale)\n",
    "\n",
    "print(new_w,new_h) #256 341\n",
    "\n",
    "resize_image = or_image.resize((new_w,new_h), Image.BICUBIC) #使用线性差值方法缩放\n",
    "\n",
    "max_offset_width = np.random.randint(low = 0,high = new_w - crop_size + 1,dtype = 'int32')\n",
    "\n",
    "max_offset_height = np.random.randint(low = 0,high = new_h - crop_size + 1,dtype = 'int32')\n"
   ]
  },
  {
   "cell_type": "code",
   "execution_count": 4,
   "metadata": {},
   "outputs": [],
   "source": [
    "crop_image = resize_image.crop((max_offset_width, max_offset_height, max_offset_width + crop_size, max_offset_height + crop_size))\n",
    "#裁剪图片\n",
    "crop_image.show()"
   ]
  },
  {
   "cell_type": "code",
   "execution_count": 5,
   "metadata": {},
   "outputs": [
    {
     "name": "stdout",
     "output_type": "stream",
     "text": [
      "(224, 224)\n"
     ]
    }
   ],
   "source": [
    "print(crop_image.size)"
   ]
  },
  {
   "cell_type": "code",
   "execution_count": 6,
   "metadata": {},
   "outputs": [],
   "source": [
    "transpose_image = crop_image.transpose(Image.FLIP_LEFT_RIGHT)\n",
    "#水平翻转\n",
    "\n",
    "transpose_image.show()"
   ]
  },
  {
   "cell_type": "code",
   "execution_count": 7,
   "metadata": {},
   "outputs": [],
   "source": [
    "r,g,b = transpose_image.split()\n",
    "#分离三个通道"
   ]
  },
  {
   "cell_type": "code",
   "execution_count": 8,
   "metadata": {},
   "outputs": [],
   "source": [
    "pic = Image.merge('RGB',(g,r,b))\n",
    "#交换 g r 通道\n",
    "pic.show()"
   ]
  },
  {
   "cell_type": "markdown",
   "metadata": {},
   "source": [
    "## 使用 tensorflow 进行数据增强"
   ]
  },
  {
   "cell_type": "code",
   "execution_count": 10,
   "metadata": {},
   "outputs": [],
   "source": [
    "def _smallest_size_at_least(height, width, smallest_side):\n",
    "    \"\"\"\n",
    "    计算将图片最小边缩放为目标尺寸时，图像的宽高为多少，即返回目标的宽高\n",
    "    函数实现 将图像最小边缩放为 smallest_side 时,宽度和高度分别为多少\n",
    "    param height 原始图像高度\n",
    "    param width 原始图像宽度\n",
    "    param smallest_size\n",
    "    return e 缩放之后图像的高度和宽度\n",
    "    \"\"\"\n",
    "    #把宽高都转为float类型\n",
    "    smallest_side = tf.convert_to_tensor(smallest_side, dtype = tf.int32)\n",
    "    height = tf.to_float(height)\n",
    "    width = tf.to_float(width)\n",
    "    smallest_side = tf.to_float(smallest_side)\n",
    "    \n",
    "    #计算缩放比例\n",
    "    scale = tf.cond(tf.greater(height, width), lambda:smallest_side/width,\n",
    "                                               lambda:smallest_side/height)\n",
    "    #tf.cond(pred, fn1, fn2, name=None)  Return :either fn1() or fn2() based on the boolean predicate `pred`\n",
    "    \n",
    "    new_height = tf.cast(tf.rint(height * scale), tf.int32)\n",
    "    new_width = tf.cast(tf.rint(width * scale), tf.int32)\n",
    "    #tf.cast()函数的作用是执行 tensorflow 中张量数据类型转换，比如读入的图片如果是int8类型的，一般在要在训练前把图像的数据格式转换为float32\n",
    "    #tf.rint函数用于返回最接近X的元素整数\n",
    "    \n",
    "    return new_height,new_width"
   ]
  },
  {
   "cell_type": "code",
   "execution_count": 12,
   "metadata": {},
   "outputs": [],
   "source": [
    "def aspect_preserving_resize(image, smallest_side):\n",
    "    \"\"\"\n",
    "    函数实现将图片等比缩放，最小边长为smallest_side\n",
    "    param image: 3维张量\n",
    "    param smallest_side: 等比缩放后最小边长\n",
    "    return: 等比变化的张量\n",
    "    \"\"\"\n",
    "    smallest_side = tf.convert_to_tensor(smallest_side,dtype=tf.int32) #转为tf张量\n",
    "    shape = tf.shape(image) #获得张量尺寸\n",
    "    \n",
    "    #获得高与宽\n",
    "    height = shape[0]\n",
    "    width = shape[1]\n",
    "    \n",
    "    #获得需要缩放到smallest_side尺寸的 新尺寸\n",
    "    new_height,new_width = _smallest_size_at_least(height, width, smallest_side)\n",
    "    \n",
    "    #tf.image.convert_image_dtype 图像归一化  归为tf.float32\n",
    "    image = tf.image.convert_image_dtype(image, dtype = tf.float32)\n",
    "    \n",
    "    \n",
    "    resized_image = tf.image.resize_images(image,[new_heigh, new_width],\n",
    "                                          method = tf.image.ResizeMethod.BICUBIC)\n",
    "    return resized_image"
   ]
  },
  {
   "cell_type": "code",
   "execution_count": 16,
   "metadata": {},
   "outputs": [
    {
     "ename": "SyntaxError",
     "evalue": "invalid syntax (<ipython-input-16-180389341c4f>, line 38)",
     "output_type": "error",
     "traceback": [
      "\u001b[1;36m  File \u001b[1;32m\"<ipython-input-16-180389341c4f>\"\u001b[1;36m, line \u001b[1;32m38\u001b[0m\n\u001b[1;33m    max_offset_height = tf.reshape(original_shape[0] - crop_height + 1,dtype = 'int32')\u001b[0m\n\u001b[1;37m                    ^\u001b[0m\n\u001b[1;31mSyntaxError\u001b[0m\u001b[1;31m:\u001b[0m invalid syntax\n"
     ]
    }
   ],
   "source": [
    "def random_crop(image, crop_height, crop_width):\n",
    "    original_shape = tf.shape(image)\n",
    "    \n",
    "    #判断original_shape的维度是否为3，若是则不会抛出异常\n",
    "    rank_assertion = tf.Assert(tf.equal(tf.rank(image),3),\n",
    "                              ['Rank of image must be equal to 3.'])\n",
    "   \n",
    "    \"\"\"\n",
    "    Assert(\n",
    "    condition,\n",
    "    data,\n",
    "    summarize=None,\n",
    "    name=None\n",
    "    )\n",
    "    \n",
    "    If condition evaluates to false, print the list of tensors in data. summarize determines how many entries of the tensors to print.\n",
    "    \"\"\"\n",
    "    \n",
    "    \n",
    "    \n",
    "    #cropped_shape = [224,224,3]\n",
    "    with tf.control_dependencies([rank_assertion]):\n",
    "        cropped_shape = tf.stack([crop_height,crop_width,original_shape[2]])\n",
    "    \n",
    "    \n",
    "    #判断原图大小与剪切图像块的大小，若原图小于图像块尺寸则抛出异常\n",
    "    #tf.greater >   ;   tf.greater_equal   >=\n",
    "    size_assertion = tf.Assert(tf.logical_and(\n",
    "                                                tf.greater_equal(orginal_shape[0], crop_height),\n",
    "                                                tf.greater_equal(orginal_shape[1], crop_width),\n",
    "                                                ['Crop size greater than the image size.'])\n",
    "    \n",
    "    \n",
    "                               \n",
    "                               \n",
    "                               \n",
    "    #确定最大裁剪范围\n",
    "    max_offset_height = tf.reshape(original_shape[0] - crop_height + 1,[])\n",
    "    max_offset_width = tf.reshape(original_shape[1] - crop_width + 1,[])\n",
    "    \n",
    "    \n",
    "    \n",
    "    "
   ]
  },
  {
   "cell_type": "code",
   "execution_count": null,
   "metadata": {},
   "outputs": [],
   "source": []
  }
 ],
 "metadata": {
  "kernelspec": {
   "display_name": "Python 3",
   "language": "python",
   "name": "python3"
  },
  "language_info": {
   "codemirror_mode": {
    "name": "ipython",
    "version": 3
   },
   "file_extension": ".py",
   "mimetype": "text/x-python",
   "name": "python",
   "nbconvert_exporter": "python",
   "pygments_lexer": "ipython3",
   "version": "3.7.3"
  }
 },
 "nbformat": 4,
 "nbformat_minor": 2
}
