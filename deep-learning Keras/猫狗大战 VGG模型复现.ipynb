{
 "cells": [
  {
   "cell_type": "code",
   "execution_count": 4,
   "metadata": {},
   "outputs": [
    {
     "data": {
      "text/plain": [
       "'1.14.0'"
      ]
     },
     "execution_count": 4,
     "metadata": {},
     "output_type": "execute_result"
    }
   ],
   "source": [
    "import tensorflow as tf\n",
    "tf.__version__"
   ]
  },
  {
   "cell_type": "code",
   "execution_count": 5,
   "metadata": {},
   "outputs": [
    {
     "name": "stderr",
     "output_type": "stream",
     "text": [
      "Using TensorFlow backend.\n"
     ]
    },
    {
     "data": {
      "text/plain": [
       "'2.3.0'"
      ]
     },
     "execution_count": 5,
     "metadata": {},
     "output_type": "execute_result"
    }
   ],
   "source": [
    "import keras\n",
    "keras.__version__"
   ]
  },
  {
   "cell_type": "markdown",
   "metadata": {},
   "source": [
    "### 首先要进行数据处理:  1.训练集与测试集的划分"
   ]
  },
  {
   "cell_type": "code",
   "execution_count": 6,
   "metadata": {},
   "outputs": [],
   "source": [
    "import os,shutil\n",
    "\n",
    "#shutil 高级的 文件、文件夹、压缩包 处理模块"
   ]
  },
  {
   "cell_type": "code",
   "execution_count": 7,
   "metadata": {},
   "outputs": [],
   "source": [
    "#找到数据位置\n",
    "original_dataset_dir = r'D:\\kaggle\\cat_dog_vgg16'\n",
    "\n",
    "#由于原数据太大了,现在进行小数据划分,首先要创建一个小数据文件夹去存放这些数据\n",
    "small_dataset_dir = r'D:\\kaggle\\small_dataset'\n",
    "os.mkdir(small_dataset_dir)\n",
    "\n",
    "#划分训练集 验证集与测试集\n",
    "#首先创建文件夹\n",
    "train_dir = os.path.join(small_dataset_dir, 'train')\n",
    "os.mkdir(train_dir)\n",
    "\n",
    "validation_dir = os.path.join(small_dataset_dir, 'validation')\n",
    "os.mkdir(validation_dir)\n",
    "\n",
    "test_dir = os.path.join(small_dataset_dir, 'test')\n",
    "os.mkdir(test_dir)\n",
    "\n",
    "#创建猫\\狗的训练数据集\n",
    "train_cats_dir = os.path.join(train_dir, 'cats')\n",
    "os.mkdir(train_cats_dir)\n",
    "\n",
    "train_dogs_dir = os.path.join(train_dir, 'dogs')\n",
    "os.mkdir(train_dogs_dir)\n",
    "\n",
    "validation_cats_dir = os.path.join(validation_dir, 'cats')\n",
    "os.mkdir(validation_cats_dir)\n",
    "\n",
    "validation_dogs_dir = os.path.join(validation_dir, 'dogs')\n",
    "os.mkdir(validation_dogs_dir)\n",
    "\n",
    "test_cats_dir = os.path.join(test_dir, 'cats')\n",
    "os.mkdir(test_cats_dir)\n",
    "\n",
    "test_dogs_dir = os.path.join(test_dir, 'dogs')\n",
    "os.mkdir(test_dogs_dir)"
   ]
  },
  {
   "cell_type": "markdown",
   "metadata": {},
   "source": [
    "## 把图像数据放入各个文件夹中去"
   ]
  },
  {
   "cell_type": "code",
   "execution_count": 8,
   "metadata": {},
   "outputs": [],
   "source": [
    "\"\"\"shutil.copyfile(src, dst):将名为src的文件的内容（无元数据）复制到名为dst的文件中 。\"\"\"\n",
    "\n",
    "fnames = ['cat.{}.jpg'.format(i) for i in range(1000)]  #前 1000 个猫图像数据\n",
    "#初始化 1000 个 cat 图片在 fnames 中,然后通过 copyfile 将它们复制到指定文件夹中\n",
    "for fname in fnames:\n",
    "    src = os.path.join(original_dataset_dir, fname)\n",
    "    dst = os.path.join(train_cats_dir, fname)\n",
    "    shutil.copyfile(src, dst)\n",
    "    \n",
    "fnames = ['cat.{}.jpg'.format(i) for i in range(1000,1500)]\n",
    "for fname in fnames:\n",
    "    src = os.path.join(original_dataset_dir, fname)\n",
    "    dst = os.path.join(validation_cats_dir, fname)\n",
    "    shutil.copyfile(src, dst)\n",
    "\n",
    "fnames = ['cat.{}.jpg'.format(i) for i in range(1500,2000)]\n",
    "for fname in fnames:\n",
    "    src = os.path.join(original_dataset_dir, fname)\n",
    "    dst = os.path.join(test_cats_dir, fname)\n",
    "    shutil.copyfile(src, dst)"
   ]
  },
  {
   "cell_type": "code",
   "execution_count": 9,
   "metadata": {},
   "outputs": [],
   "source": [
    "fnames = ['dog.{}.jpg'.format(i) for i in range(1000)]  #前 1000 个狗图像数据\n",
    "#初始化 1000 个 dogs 图片在 fnames 中,然后通过 copyfile 将它们复制到指定文件夹中\n",
    "for fname in fnames:\n",
    "    src = os.path.join(original_dataset_dir, fname)\n",
    "    dst = os.path.join(train_dogs_dir, fname)\n",
    "    shutil.copyfile(src, dst)\n",
    "    \n",
    "fnames = ['dog.{}.jpg'.format(i) for i in range(1000,1500)]\n",
    "for fname in fnames:\n",
    "    src = os.path.join(original_dataset_dir, fname)\n",
    "    dst = os.path.join(validation_dogs_dir, fname)\n",
    "    shutil.copyfile(src, dst)\n",
    "\n",
    "fnames = ['dog.{}.jpg'.format(i) for i in range(1500,2000)]\n",
    "for fname in fnames:\n",
    "    src = os.path.join(original_dataset_dir, fname)\n",
    "    dst = os.path.join(test_dogs_dir, fname)\n",
    "    shutil.copyfile(src, dst)"
   ]
  },
  {
   "cell_type": "code",
   "execution_count": 10,
   "metadata": {},
   "outputs": [
    {
     "name": "stdout",
     "output_type": "stream",
     "text": [
      "total training cat images 1000\n",
      "total training dog images 1000\n",
      "total vaildation cat images 500\n",
      "total vaildation dog images 500\n",
      "total test cat images 500\n",
      "total test dog images 500\n"
     ]
    }
   ],
   "source": [
    "print('total training cat images', len(os.listdir(train_cats_dir)))\n",
    "print('total training dog images', len(os.listdir(train_dogs_dir)))\n",
    "print('total vaildation cat images', len(os.listdir(validation_cats_dir)))\n",
    "print('total vaildation dog images', len(os.listdir(validation_dogs_dir)))\n",
    "print('total test cat images', len(os.listdir(test_cats_dir)))\n",
    "print('total test dog images', len(os.listdir(test_dogs_dir)))\n"
   ]
  },
  {
   "cell_type": "code",
   "execution_count": 15,
   "metadata": {},
   "outputs": [],
   "source": [
    "from keras import layers\n",
    "from keras import models\n",
    "from keras.layers import Dense, Activation, Conv2D, MaxPooling2D, Flatten, Dropout\n",
    "\n",
    "model = models.Sequential()\n",
    "model.add(layers.Conv2D(64, (3, 3), activation='relu',padding='same',\n",
    "                        input_shape=(150, 150, 3)))\n",
    "model.add(layers.Conv2D(64, (3, 3), activation='relu',padding='same'))\n",
    "model.add(layers.MaxPooling2D(pool_size=(2, 2), strides=(2,2)))\n",
    "\n",
    "model.add(layers.Conv2D(128, (3, 3), activation='relu',padding='same'))\n",
    "model.add(layers.Conv2D(128, (3, 3), activation='relu',padding='same'))\n",
    "model.add(layers.MaxPooling2D((2, 2), strides=(2,2)))\n",
    "\n",
    "model.add(layers.Conv2D(256, (3, 3), activation='relu',padding='same'))\n",
    "model.add(layers.Conv2D(256, (3, 3), activation='relu',padding='same'))\n",
    "model.add(layers.Conv2D(256, (3, 3), activation='relu',padding='same'))\n",
    "model.add(layers.MaxPool2D((2, 2), strides=(2,2)))\n",
    "\n",
    "model.add(layers.Conv2D(512, (3, 3), activation='relu',padding='same'))\n",
    "model.add(layers.Conv2D(515, (3, 3), activation='relu',padding='same'))\n",
    "model.add(layers.Conv2D(512, (3, 3), activation='relu',padding='same'))\n",
    "model.add(layers.MaxPooling2D((2, 2), strides=(2,2)))\n",
    "\n",
    "\n",
    "model.add(layers.Conv2D(512, (3, 3), activation='relu',padding='same'))\n",
    "model.add(layers.Conv2D(515, (3, 3), activation='relu',padding='same'))\n",
    "model.add(layers.Conv2D(512, (3, 3), activation='relu',padding='same'))\n",
    "model.add(layers.MaxPooling2D((2, 2), strides=(2,2)))\n",
    "\n",
    "\n",
    "model.add(layers.Flatten())\n",
    "model.add(layers.Dense(4096, activation='relu'))\n",
    "model.add(Dropout(0.5))\n",
    "model.add(layers.Dense(4096, activation='relu'))\n",
    "model.add(Dropout(0.5))\n",
    "model.add(layers.Dense(2, activation='sigmoid'))"
   ]
  },
  {
   "cell_type": "code",
   "execution_count": 16,
   "metadata": {},
   "outputs": [
    {
     "name": "stdout",
     "output_type": "stream",
     "text": [
      "Model: \"sequential_3\"\n",
      "_________________________________________________________________\n",
      "Layer (type)                 Output Shape              Param #   \n",
      "=================================================================\n",
      "conv2d_27 (Conv2D)           (None, 150, 150, 64)      1792      \n",
      "_________________________________________________________________\n",
      "conv2d_28 (Conv2D)           (None, 150, 150, 64)      36928     \n",
      "_________________________________________________________________\n",
      "max_pooling2d_11 (MaxPooling (None, 75, 75, 64)        0         \n",
      "_________________________________________________________________\n",
      "conv2d_29 (Conv2D)           (None, 75, 75, 128)       73856     \n",
      "_________________________________________________________________\n",
      "conv2d_30 (Conv2D)           (None, 75, 75, 128)       147584    \n",
      "_________________________________________________________________\n",
      "max_pooling2d_12 (MaxPooling (None, 37, 37, 128)       0         \n",
      "_________________________________________________________________\n",
      "conv2d_31 (Conv2D)           (None, 37, 37, 256)       295168    \n",
      "_________________________________________________________________\n",
      "conv2d_32 (Conv2D)           (None, 37, 37, 256)       590080    \n",
      "_________________________________________________________________\n",
      "conv2d_33 (Conv2D)           (None, 37, 37, 256)       590080    \n",
      "_________________________________________________________________\n",
      "max_pooling2d_13 (MaxPooling (None, 18, 18, 256)       0         \n",
      "_________________________________________________________________\n",
      "conv2d_34 (Conv2D)           (None, 18, 18, 512)       1180160   \n",
      "_________________________________________________________________\n",
      "conv2d_35 (Conv2D)           (None, 18, 18, 515)       2373635   \n",
      "_________________________________________________________________\n",
      "conv2d_36 (Conv2D)           (None, 18, 18, 512)       2373632   \n",
      "_________________________________________________________________\n",
      "max_pooling2d_14 (MaxPooling (None, 9, 9, 512)         0         \n",
      "_________________________________________________________________\n",
      "conv2d_37 (Conv2D)           (None, 9, 9, 512)         2359808   \n",
      "_________________________________________________________________\n",
      "conv2d_38 (Conv2D)           (None, 9, 9, 515)         2373635   \n",
      "_________________________________________________________________\n",
      "conv2d_39 (Conv2D)           (None, 9, 9, 512)         2373632   \n",
      "_________________________________________________________________\n",
      "max_pooling2d_15 (MaxPooling (None, 4, 4, 512)         0         \n",
      "_________________________________________________________________\n",
      "flatten_3 (Flatten)          (None, 8192)              0         \n",
      "_________________________________________________________________\n",
      "dense_5 (Dense)              (None, 4096)              33558528  \n",
      "_________________________________________________________________\n",
      "dropout_3 (Dropout)          (None, 4096)              0         \n",
      "_________________________________________________________________\n",
      "dense_6 (Dense)              (None, 4096)              16781312  \n",
      "_________________________________________________________________\n",
      "dropout_4 (Dropout)          (None, 4096)              0         \n",
      "_________________________________________________________________\n",
      "dense_7 (Dense)              (None, 2)                 8194      \n",
      "=================================================================\n",
      "Total params: 65,118,024\n",
      "Trainable params: 65,118,024\n",
      "Non-trainable params: 0\n",
      "_________________________________________________________________\n"
     ]
    }
   ],
   "source": [
    "model.summary()"
   ]
  },
  {
   "cell_type": "code",
   "execution_count": null,
   "metadata": {},
   "outputs": [],
   "source": []
  }
 ],
 "metadata": {
  "kernelspec": {
   "display_name": "Python 3",
   "language": "python",
   "name": "python3"
  },
  "language_info": {
   "codemirror_mode": {
    "name": "ipython",
    "version": 3
   },
   "file_extension": ".py",
   "mimetype": "text/x-python",
   "name": "python",
   "nbconvert_exporter": "python",
   "pygments_lexer": "ipython3",
   "version": "3.7.3"
  }
 },
 "nbformat": 4,
 "nbformat_minor": 2
}
