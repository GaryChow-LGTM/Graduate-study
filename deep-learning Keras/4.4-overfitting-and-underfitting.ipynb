{
 "cells": [
  {
   "cell_type": "code",
   "execution_count": 2,
   "metadata": {},
   "outputs": [
    {
     "data": {
      "text/plain": [
       "'2.2.4-tf'"
      ]
     },
     "execution_count": 2,
     "metadata": {},
     "output_type": "execute_result"
    }
   ],
   "source": [
    "import tensorflow.keras\n",
    "tensorflow.keras.__version__"
   ]
  },
  {
   "cell_type": "markdown",
   "metadata": {},
   "source": [
    "# Overfitting and underfitting\n",
    "\n",
    "This notebook contains the code samples found in Chapter 3, Section 6 of [Deep Learning with Python](https://www.manning.com/books/deep-learning-with-python?a_aid=keras&a_bid=76564dff). Note that the original text features far more content, in particular further explanations and figures: in this notebook, you will only find source code and related comments.\n",
    "\n",
    "----\n",
    "\n",
    "\n",
    "In all the examples we saw in the previous chapter -- movie review sentiment prediction, topic classification, and house price regression -- \n",
    "we could notice that the performance of our model on the held-out validation data would always peak after a few epochs and would then start \n",
    "degrading, i.e. our model would quickly start to _overfit_ to the training data. Overfitting happens in every single machine learning \n",
    "problem. Learning how to deal with overfitting is essential to mastering machine learning.\n",
    "\n",
    "The fundamental issue in machine learning is the tension between optimization and generalization. \"Optimization\" refers to the process of \n",
    "adjusting a model to get the best performance possible on the training data (the \"learning\" in \"machine learning\"), while \"generalization\" \n",
    "refers to how well the trained model would perform on data it has never seen before. The goal of the game is to get good generalization, of \n",
    "course, but you do not control generalization; you can only adjust the model based on its training data.\n",
    "\n",
    "At the beginning of training, optimization and generalization are correlated: the lower your loss on training data, the lower your loss on \n",
    "test data. While this is happening, your model is said to be _under-fit_: there is still progress to be made; the network hasn't yet \n",
    "modeled all relevant patterns in the training data. But after a certain number of iterations on the training data, generalization stops \n",
    "improving, validation metrics stall then start degrading: the model is then starting to over-fit, i.e. is it starting to learn patterns \n",
    "that are specific to the training data but that are misleading or irrelevant when it comes to new data.\n",
    "\n",
    "To prevent a model from learning misleading or irrelevant patterns found in the training data, _the best solution is of course to get \n",
    "more training data_. A model trained on more data will naturally generalize better. When that is no longer possible, the next best solution \n",
    "is to modulate the quantity of information that your model is allowed to store, or to add constraints on what information it is allowed to \n",
    "store. If a network can only afford to memorize a small number of patterns, the optimization process will force it to focus on the most \n",
    "prominent patterns, which have a better chance of generalizing well.\n",
    "\n",
    "The processing of fighting overfitting in this way is called _regularization_. Let's review some of the most common regularization \n",
    "techniques, and let's apply them in practice to improve our movie classification model from  the previous chapter."
   ]
  },
  {
   "cell_type": "markdown",
   "metadata": {},
   "source": [
    "Note: in this notebook we will be using the IMDB test set as our validation set. It doesn't matter in this context.\n",
    "\n",
    "Let's prepare the data using the code from Chapter 3, Section 5:"
   ]
  },
  {
   "cell_type": "code",
   "execution_count": 4,
   "metadata": {},
   "outputs": [],
   "source": [
    "#from tensorflow.keras.datasets import imdb\n",
    "import numpy as np\n",
    "\n",
    "#(train_data, train_labels), (test_data, test_labels) = imdb.load_data(num_words=10000)\n",
    "from tensorflow.keras.datasets import imdb\n",
    "\n",
    "(train_data, train_labels), (test_data, test_labels) = imdb.load_data(\n",
    "    path=\"/Users/admin/Desktop/deep-learning Keras/imdb.npz\",num_words=10000)\n",
    "def vectorize_sequences(sequences, dimension=10000):\n",
    "    # Create an all-zero matrix of shape (len(sequences), dimension)\n",
    "    results = np.zeros((len(sequences), dimension))\n",
    "    for i, sequence in enumerate(sequences):\n",
    "        results[i, sequence] = 1.  # set specific indices of results[i] to 1s\n",
    "    return results\n",
    "\n",
    "# Our vectorized training data\n",
    "x_train = vectorize_sequences(train_data)\n",
    "# Our vectorized test data\n",
    "x_test = vectorize_sequences(test_data)\n",
    "# Our vectorized labels\n",
    "y_train = np.asarray(train_labels).astype('float32')\n",
    "y_test = np.asarray(test_labels).astype('float32')"
   ]
  },
  {
   "cell_type": "markdown",
   "metadata": {},
   "source": [
    "array和asarray都可以将结构数据转化为ndarray，但是主要区别就是当数据源是ndarray时，array仍然会copy出一个副本，占用新的内存，但asarray不会。"
   ]
  },
  {
   "cell_type": "markdown",
   "metadata": {},
   "source": [
    "# Fighting overfitting\n",
    "\n",
    "## Reducing the network's size\n",
    "\n",
    "\n",
    "The simplest way to prevent overfitting is to reduce the size of the model, i.e. the number of learnable parameters in the model (which is \n",
    "determined by the number of layers and the number of units per layer). In deep learning, the number of learnable parameters in a model is \n",
    "often referred to as the model's \"capacity\". Intuitively, a model with more parameters will have more \"memorization capacity\" and therefore \n",
    "will be able to easily learn a perfect dictionary-like mapping between training samples and their targets, a mapping without any \n",
    "generalization power. For instance, a model with 500,000 binary parameters could easily be made to learn the class of every digits in the \n",
    "MNIST training set: we would only need 10 binary parameters for each of the 50,000 digits. Such a model would be useless for classifying \n",
    "new digit samples. Always keep this in mind: deep learning models tend to be good at fitting to the training data, but the real challenge \n",
    "is generalization, not fitting.\n",
    "\n",
    "On the other hand, if the network has limited memorization resources, it will not be able to learn this mapping as easily, and thus, in \n",
    "order to minimize its loss, it will have to resort to learning compressed representations that have predictive power regarding the targets \n",
    "-- precisely the type of representations that we are interested in. At the same time, keep in mind that you should be using models that have \n",
    "enough parameters that they won't be underfitting: your model shouldn't be starved for memorization resources. There is a compromise to be \n",
    "found between \"too much capacity\" and \"not enough capacity\".\n",
    "\n",
    "Unfortunately, there is no magical formula to determine what the right number of layers is, or what the right size for each layer is. You \n",
    "will have to evaluate an array of different architectures (on your validation set, not on your test set, of course) in order to find the \n",
    "right model size for your data. The general workflow to find an appropriate model size is to start with relatively few layers and \n",
    "parameters, and start increasing the size of the layers or adding new layers until you see diminishing returns with regard to the \n",
    "validation loss.\n",
    "\n",
    "Let's try this on our movie review classification network. Our original network was as such:"
   ]
  },
  {
   "cell_type": "code",
   "execution_count": 5,
   "metadata": {},
   "outputs": [],
   "source": [
    "from tensorflow.keras import models\n",
    "from tensorflow.keras import layers\n",
    "\n",
    "original_model = models.Sequential()\n",
    "original_model.add(layers.Dense(16, activation='relu', input_shape=(10000,)))\n",
    "original_model.add(layers.Dense(16, activation='relu'))\n",
    "original_model.add(layers.Dense(1, activation='sigmoid'))\n",
    "\n",
    "original_model.compile(optimizer='rmsprop',\n",
    "                       loss='binary_crossentropy',\n",
    "                       metrics=['acc'])"
   ]
  },
  {
   "cell_type": "markdown",
   "metadata": {},
   "source": [
    "Now let's try to replace it with this smaller network:"
   ]
  },
  {
   "cell_type": "code",
   "execution_count": 6,
   "metadata": {},
   "outputs": [],
   "source": [
    "smaller_model = models.Sequential()\n",
    "smaller_model.add(layers.Dense(4, activation='relu', input_shape=(10000,)))\n",
    "smaller_model.add(layers.Dense(4, activation='relu'))\n",
    "smaller_model.add(layers.Dense(1, activation='sigmoid'))\n",
    "\n",
    "smaller_model.compile(optimizer='rmsprop',\n",
    "                      loss='binary_crossentropy',\n",
    "                      metrics=['acc'])"
   ]
  },
  {
   "cell_type": "markdown",
   "metadata": {},
   "source": [
    "\n",
    "Here's a comparison of the validation losses of the original network and the smaller network. The dots are the validation loss values of \n",
    "the smaller network, and the crosses are the initial network (remember: a lower validation loss signals a better model)."
   ]
  },
  {
   "cell_type": "code",
   "execution_count": 7,
   "metadata": {},
   "outputs": [
    {
     "name": "stdout",
     "output_type": "stream",
     "text": [
      "Train on 25000 samples, validate on 25000 samples\n",
      "Epoch 1/20\n",
      "25000/25000 [==============================] - 4s 175us/sample - loss: 0.4364 - acc: 0.8278 - val_loss: 0.3484 - val_acc: 0.8641\n",
      "Epoch 2/20\n",
      "25000/25000 [==============================] - 2s 87us/sample - loss: 0.2523 - acc: 0.9109 - val_loss: 0.2911 - val_acc: 0.8849\n",
      "Epoch 3/20\n",
      "25000/25000 [==============================] - 2s 84us/sample - loss: 0.1973 - acc: 0.9299 - val_loss: 0.3222 - val_acc: 0.8694\n",
      "Epoch 4/20\n",
      "25000/25000 [==============================] - 2s 88us/sample - loss: 0.1658 - acc: 0.9402 - val_loss: 0.2948 - val_acc: 0.8830\n",
      "Epoch 5/20\n",
      "25000/25000 [==============================] - 2s 89us/sample - loss: 0.1426 - acc: 0.9496 - val_loss: 0.3389 - val_acc: 0.8716\n",
      "Epoch 6/20\n",
      "25000/25000 [==============================] - 2s 92us/sample - loss: 0.1216 - acc: 0.9582 - val_loss: 0.3562 - val_acc: 0.8687\n",
      "Epoch 7/20\n",
      "25000/25000 [==============================] - 2s 99us/sample - loss: 0.1072 - acc: 0.9630 - val_loss: 0.3561 - val_acc: 0.8736\n",
      "Epoch 8/20\n",
      "25000/25000 [==============================] - 3s 101us/sample - loss: 0.0895 - acc: 0.9715 - val_loss: 0.3853 - val_acc: 0.8687\n",
      "Epoch 9/20\n",
      "25000/25000 [==============================] - 2s 90us/sample - loss: 0.0780 - acc: 0.9753 - val_loss: 0.4221 - val_acc: 0.8674\n",
      "Epoch 10/20\n",
      "25000/25000 [==============================] - 2s 93us/sample - loss: 0.0663 - acc: 0.9800 - val_loss: 0.4454 - val_acc: 0.8663\n",
      "Epoch 11/20\n",
      "25000/25000 [==============================] - 2s 95us/sample - loss: 0.0576 - acc: 0.9823 - val_loss: 0.5218 - val_acc: 0.8546\n",
      "Epoch 12/20\n",
      "25000/25000 [==============================] - 2s 98us/sample - loss: 0.0451 - acc: 0.9878 - val_loss: 0.5239 - val_acc: 0.8588\n",
      "Epoch 13/20\n",
      "25000/25000 [==============================] - 2s 95us/sample - loss: 0.0418 - acc: 0.9879 - val_loss: 0.5476 - val_acc: 0.8577\n",
      "Epoch 14/20\n",
      "25000/25000 [==============================] - 2s 98us/sample - loss: 0.0320 - acc: 0.9913 - val_loss: 0.5812 - val_acc: 0.8557\n",
      "Epoch 15/20\n",
      "25000/25000 [==============================] - 2s 96us/sample - loss: 0.0277 - acc: 0.9928 - val_loss: 0.6492 - val_acc: 0.8518\n",
      "Epoch 16/20\n",
      "25000/25000 [==============================] - 2s 95us/sample - loss: 0.0207 - acc: 0.9952 - val_loss: 0.6491 - val_acc: 0.8558\n",
      "Epoch 17/20\n",
      "25000/25000 [==============================] - 2s 92us/sample - loss: 0.0181 - acc: 0.9953 - val_loss: 0.7834 - val_acc: 0.8440\n",
      "Epoch 18/20\n",
      "25000/25000 [==============================] - 2s 89us/sample - loss: 0.0137 - acc: 0.9972 - val_loss: 0.7329 - val_acc: 0.8514\n",
      "Epoch 19/20\n",
      "25000/25000 [==============================] - 2s 88us/sample - loss: 0.0119 - acc: 0.9972 - val_loss: 0.7841 - val_acc: 0.8498\n",
      "Epoch 20/20\n",
      "25000/25000 [==============================] - 2s 89us/sample - loss: 0.0100 - acc: 0.9976 - val_loss: 0.8262 - val_acc: 0.8518\n"
     ]
    }
   ],
   "source": [
    "original_hist = original_model.fit(x_train, y_train,\n",
    "                                   epochs=20,\n",
    "                                   batch_size=512,\n",
    "                                   validation_data=(x_test, y_test))"
   ]
  },
  {
   "cell_type": "code",
   "execution_count": 8,
   "metadata": {},
   "outputs": [
    {
     "name": "stdout",
     "output_type": "stream",
     "text": [
      "Train on 25000 samples, validate on 25000 samples\n",
      "Epoch 1/20\n",
      "25000/25000 [==============================] - 2s 96us/sample - loss: 0.5999 - acc: 0.6540 - val_loss: 0.5563 - val_acc: 0.8279\n",
      "Epoch 2/20\n",
      "25000/25000 [==============================] - 2s 87us/sample - loss: 0.5021 - acc: 0.8306 - val_loss: 0.5043 - val_acc: 0.8110\n",
      "Epoch 3/20\n",
      "25000/25000 [==============================] - 2s 86us/sample - loss: 0.4536 - acc: 0.8798 - val_loss: 0.4755 - val_acc: 0.8681\n",
      "Epoch 4/20\n",
      "25000/25000 [==============================] - 2s 87us/sample - loss: 0.4193 - acc: 0.9068 - val_loss: 0.4593 - val_acc: 0.8712\n",
      "Epoch 5/20\n",
      "25000/25000 [==============================] - 2s 90us/sample - loss: 0.3918 - acc: 0.9248 - val_loss: 0.4539 - val_acc: 0.8656\n",
      "Epoch 6/20\n",
      "25000/25000 [==============================] - 2s 93us/sample - loss: 0.3689 - acc: 0.9365 - val_loss: 0.4451 - val_acc: 0.8736\n",
      "Epoch 7/20\n",
      "25000/25000 [==============================] - 2s 91us/sample - loss: 0.3474 - acc: 0.9473 - val_loss: 0.4382 - val_acc: 0.8787\n",
      "Epoch 8/20\n",
      "25000/25000 [==============================] - 2s 86us/sample - loss: 0.3288 - acc: 0.9550 - val_loss: 0.4449 - val_acc: 0.8713\n",
      "Epoch 9/20\n",
      "25000/25000 [==============================] - 2s 84us/sample - loss: 0.3121 - acc: 0.9609 - val_loss: 0.4424 - val_acc: 0.8729\n",
      "Epoch 10/20\n",
      "25000/25000 [==============================] - 2s 82us/sample - loss: 0.2964 - acc: 0.9663 - val_loss: 0.4662 - val_acc: 0.8650\n",
      "Epoch 11/20\n",
      "25000/25000 [==============================] - 2s 88us/sample - loss: 0.2809 - acc: 0.9708 - val_loss: 0.4604 - val_acc: 0.8668\n",
      "Epoch 12/20\n",
      "25000/25000 [==============================] - 2s 89us/sample - loss: 0.2675 - acc: 0.9736 - val_loss: 0.4663 - val_acc: 0.8676\n",
      "Epoch 13/20\n",
      "25000/25000 [==============================] - 2s 96us/sample - loss: 0.2546 - acc: 0.9771 - val_loss: 0.4733 - val_acc: 0.8651\n",
      "Epoch 14/20\n",
      "25000/25000 [==============================] - 2s 96us/sample - loss: 0.2427 - acc: 0.9793 - val_loss: 0.5238 - val_acc: 0.8594\n",
      "Epoch 15/20\n",
      "25000/25000 [==============================] - 2s 97us/sample - loss: 0.2314 - acc: 0.9809 - val_loss: 0.5168 - val_acc: 0.8607\n",
      "Epoch 16/20\n",
      "25000/25000 [==============================] - 2s 92us/sample - loss: 0.2213 - acc: 0.9827 - val_loss: 0.4858 - val_acc: 0.8623\n",
      "Epoch 17/20\n",
      "25000/25000 [==============================] - 2s 94us/sample - loss: 0.2111 - acc: 0.9842 - val_loss: 0.5492 - val_acc: 0.8582\n",
      "Epoch 18/20\n",
      "25000/25000 [==============================] - 2s 89us/sample - loss: 0.2019 - acc: 0.9851 - val_loss: 0.5734 - val_acc: 0.8564\n",
      "Epoch 19/20\n",
      "25000/25000 [==============================] - 2s 83us/sample - loss: 0.1933 - acc: 0.9862 - val_loss: 0.5484 - val_acc: 0.8578\n",
      "Epoch 20/20\n",
      "25000/25000 [==============================] - 2s 83us/sample - loss: 0.1851 - acc: 0.9868 - val_loss: 0.6018 - val_acc: 0.8558\n"
     ]
    }
   ],
   "source": [
    "smaller_model_hist = smaller_model.fit(x_train, y_train,\n",
    "                                       epochs=20,\n",
    "                                       batch_size=512,\n",
    "                                       validation_data=(x_test, y_test))"
   ]
  },
  {
   "cell_type": "code",
   "execution_count": 13,
   "metadata": {},
   "outputs": [
    {
     "name": "stdout",
     "output_type": "stream",
     "text": [
      "dict_keys(['loss', 'acc', 'val_loss', 'val_acc'])\n"
     ]
    }
   ],
   "source": [
    "print(original_hist.history.keys())"
   ]
  },
  {
   "cell_type": "code",
   "execution_count": 14,
   "metadata": {},
   "outputs": [
    {
     "name": "stdout",
     "output_type": "stream",
     "text": [
      "dict_keys(['loss', 'acc', 'val_loss', 'val_acc'])\n"
     ]
    }
   ],
   "source": [
    "print(smaller_model_hist.history.keys())"
   ]
  },
  {
   "cell_type": "code",
   "execution_count": 15,
   "metadata": {},
   "outputs": [],
   "source": [
    "epochs = range(1, 21)\n",
    "original_val_loss = original_hist.history['val_loss']\n",
    "smaller_model_val_loss = smaller_model_hist.history['val_loss']"
   ]
  },
  {
   "cell_type": "code",
   "execution_count": 17,
   "metadata": {},
   "outputs": [
    {
     "data": {
      "image/png": "[encoded data removed]",
      "text/plain": [
       "<Figure size 432x288 with 1 Axes>"
      ]
     },
     "metadata": {
      "needs_background": "light"
     },
     "output_type": "display_data"
    }
   ],
   "source": [
    "import matplotlib.pyplot as plt\n",
    "\n",
    "# b+ is for \"blue cross\"\n",
    "plt.plot(epochs, original_val_loss, 'b+', label='Original model')\n",
    "# \"bo\" is for \"blue dot\"\n",
    "plt.plot(epochs, smaller_model_val_loss, 'bo', label='Smaller model')\n",
    "plt.xlabel('Epochs')\n",
    "plt.ylabel('Validation loss')\n",
    "plt.legend()\n",
    "\n",
    "plt.show()"
   ]
  },
  {
   "cell_type": "markdown",
   "metadata": {},
   "source": [
    "\n",
    "As you can see, the smaller network starts overfitting later than the reference one (after 6 epochs rather than 4) and its performance \n",
    "degrades much more slowly once it starts overfitting.\n",
    "\n",
    "Now, for kicks, let's add to this benchmark a network that has much more capacity, far more than the problem would warrant:"
   ]
  },
  {
   "cell_type": "code",
   "execution_count": 18,
   "metadata": {},
   "outputs": [],
   "source": [
    "bigger_model = models.Sequential()\n",
    "bigger_model.add(layers.Dense(512, activation='relu', input_shape=(10000,)))\n",
    "bigger_model.add(layers.Dense(512, activation='relu'))\n",
    "bigger_model.add(layers.Dense(1, activation='sigmoid'))\n",
    "\n",
    "bigger_model.compile(optimizer='rmsprop',\n",
    "                     loss='binary_crossentropy',\n",
    "                     metrics=['acc'])"
   ]
  },
  {
   "cell_type": "code",
   "execution_count": 19,
   "metadata": {},
   "outputs": [
    {
     "name": "stdout",
     "output_type": "stream",
     "text": [
      "Train on 25000 samples, validate on 25000 samples\n",
      "Epoch 1/20\n",
      "25000/25000 [==============================] - 6s 255us/sample - loss: 0.4639 - acc: 0.7918 - val_loss: 0.3058 - val_acc: 0.8717\n",
      "Epoch 2/20\n",
      "25000/25000 [==============================] - 6s 248us/sample - loss: 0.2217 - acc: 0.9124 - val_loss: 0.2720 - val_acc: 0.8898\n",
      "Epoch 3/20\n",
      "25000/25000 [==============================] - 6s 249us/sample - loss: 0.1294 - acc: 0.9497 - val_loss: 0.3256 - val_acc: 0.8844\n",
      "Epoch 4/20\n",
      "25000/25000 [==============================] - 6s 259us/sample - loss: 0.0576 - acc: 0.9830 - val_loss: 0.4489 - val_acc: 0.8807\n",
      "Epoch 5/20\n",
      "25000/25000 [==============================] - 6s 250us/sample - loss: 0.0423 - acc: 0.9896 - val_loss: 0.5579 - val_acc: 0.8792\n",
      "Epoch 6/20\n",
      "25000/25000 [==============================] - 6s 250us/sample - loss: 0.0888 - acc: 0.9885 - val_loss: 0.4924 - val_acc: 0.8654\n",
      "Epoch 7/20\n",
      "25000/25000 [==============================] - 6s 257us/sample - loss: 0.0017 - acc: 1.0000 - val_loss: 0.7188 - val_acc: 0.8794\n",
      "Epoch 8/20\n",
      "25000/25000 [==============================] - 6s 260us/sample - loss: 0.1055 - acc: 0.9892 - val_loss: 0.6069 - val_acc: 0.8803\n",
      "Epoch 9/20\n",
      "25000/25000 [==============================] - 7s 278us/sample - loss: 3.2693e-04 - acc: 1.0000 - val_loss: 0.8006 - val_acc: 0.8792\n",
      "Epoch 10/20\n",
      "25000/25000 [==============================] - 7s 287us/sample - loss: 0.0988 - acc: 0.9904 - val_loss: 1.5237 - val_acc: 0.7891\n",
      "Epoch 11/20\n",
      "25000/25000 [==============================] - 7s 274us/sample - loss: 0.0020 - acc: 0.9994 - val_loss: 0.7899 - val_acc: 0.8775\n",
      "Epoch 12/20\n",
      "25000/25000 [==============================] - 6s 253us/sample - loss: 4.0282e-05 - acc: 1.0000 - val_loss: 0.9315 - val_acc: 0.8774\n",
      "Epoch 13/20\n",
      "25000/25000 [==============================] - 6s 255us/sample - loss: 0.1146 - acc: 0.9890 - val_loss: 1.0937 - val_acc: 0.8441\n",
      "Epoch 14/20\n",
      "25000/25000 [==============================] - 6s 251us/sample - loss: 3.0937e-04 - acc: 1.0000 - val_loss: 0.8492 - val_acc: 0.8778\n",
      "Epoch 15/20\n",
      "25000/25000 [==============================] - 7s 272us/sample - loss: 1.5922e-05 - acc: 1.0000 - val_loss: 0.9325 - val_acc: 0.8774\n",
      "Epoch 16/20\n",
      "25000/25000 [==============================] - 6s 254us/sample - loss: 4.5176e-06 - acc: 1.0000 - val_loss: 1.0568 - val_acc: 0.8788\n",
      "Epoch 17/20\n",
      "25000/25000 [==============================] - 6s 247us/sample - loss: 9.4733e-07 - acc: 1.0000 - val_loss: 1.1990 - val_acc: 0.8782\n",
      "Epoch 18/20\n",
      "25000/25000 [==============================] - 6s 249us/sample - loss: 2.0961e-07 - acc: 1.0000 - val_loss: 1.3096 - val_acc: 0.8787\n",
      "Epoch 19/20\n",
      "25000/25000 [==============================] - 6s 251us/sample - loss: 4.5943e-08 - acc: 1.0000 - val_loss: 1.4386 - val_acc: 0.8792\n",
      "Epoch 20/20\n",
      "25000/25000 [==============================] - 6s 256us/sample - loss: 1.8199e-08 - acc: 1.0000 - val_loss: 1.4958 - val_acc: 0.8790\n"
     ]
    }
   ],
   "source": [
    "bigger_model_hist = bigger_model.fit(x_train, y_train,\n",
    "                                     epochs=20,\n",
    "                                     batch_size=512,\n",
    "                                     validation_data=(x_test, y_test))"
   ]
  },
  {
   "cell_type": "markdown",
   "metadata": {},
   "source": [
    "Here's how the bigger network fares compared to the reference one. The dots are the validation loss values of the bigger network, and the \n",
    "crosses are the initial network."
   ]
  },
  {
   "cell_type": "code",
   "execution_count": 20,
   "metadata": {},
   "outputs": [
    {
     "data": {
      "image/png": "[encoded data removed]",
      "text/plain": [
       "<Figure size 432x288 with 1 Axes>"
      ]
     },
     "metadata": {
      "needs_background": "light"
     },
     "output_type": "display_data"
    }
   ],
   "source": [
    "bigger_model_val_loss = bigger_model_hist.history['val_loss']\n",
    "\n",
    "plt.plot(epochs, original_val_loss, 'b+', label='Original model')\n",
    "plt.plot(epochs, bigger_model_val_loss, 'bo', label='Bigger model')\n",
    "plt.xlabel('Epochs')\n",
    "plt.ylabel('Validation loss')\n",
    "plt.legend()\n",
    "\n",
    "plt.show()"
   ]
  },
  {
   "cell_type": "markdown",
   "metadata": {},
   "source": [
    "\n",
    "The bigger network starts overfitting almost right away, after just one epoch, and overfits much more severely. Its validation loss is also \n",
    "more noisy.\n",
    "\n",
    "Meanwhile, here are the training losses for our two networks:"
   ]
  },
  {
   "cell_type": "code",
   "execution_count": 21,
   "metadata": {},
   "outputs": [
    {
     "data": {
      "image/png": "[encoded data removed]",
      "text/plain": [
       "<Figure size 432x288 with 1 Axes>"
      ]
     },
     "metadata": {
      "needs_background": "light"
     },
     "output_type": "display_data"
    }
   ],
   "source": [
    "original_train_loss = original_hist.history['loss']\n",
    "bigger_model_train_loss = bigger_model_hist.history['loss']\n",
    "\n",
    "plt.plot(epochs, original_train_loss, 'b+', label='Original model')\n",
    "plt.plot(epochs, bigger_model_train_loss, 'bo', label='Bigger model')\n",
    "plt.xlabel('Epochs')\n",
    "plt.ylabel('Training loss')\n",
    "plt.legend()\n",
    "\n",
    "plt.show()"
   ]
  },
  {
   "cell_type": "markdown",
   "metadata": {},
   "source": [
    "As you can see, the bigger network gets its training loss near zero very quickly. The more capacity the network has, the quicker it will be \n",
    "able to model the training data (resulting in a low training loss), but the more susceptible it is to overfitting (resulting in a large \n",
    "difference between the training and validation loss)."
   ]
  },
  {
   "cell_type": "markdown",
   "metadata": {},
   "source": [
    "## Adding weight regularization\n",
    "\n",
    "\n",
    "You may be familiar with _Occam's Razor_ principle: given two explanations for something, the explanation most likely to be correct is the \n",
    "\"simplest\" one, the one that makes the least amount of assumptions. This also applies to the models learned by neural networks: given some \n",
    "training data and a network architecture, there are multiple sets of weights values (multiple _models_) that could explain the data, and \n",
    "simpler models are less likely to overfit than complex ones.\n",
    "\n",
    "A \"simple model\" in this context is a model where the distribution of parameter values has less entropy (or a model with fewer \n",
    "parameters altogether, as we saw in the section above). Thus a common way to mitigate overfitting is to put constraints on the complexity \n",
    "of a network by forcing its weights to only take small values, which makes the distribution of weight values more \"regular\". This is called \n",
    "\"weight regularization\", and it is done by adding to the loss function of the network a _cost_ associated with having large weights. This \n",
    "cost comes in two flavors:\n",
    "\n",
    "* L1 regularization, where the cost added is proportional to the _absolute value of the weights coefficients_ (i.e. to what is called the \n",
    "\"L1 norm\" of the weights).\n",
    "* L2 regularization, where the cost added is proportional to the _square of the value of the weights coefficients_ (i.e. to what is called \n",
    "the \"L2 norm\" of the weights). L2 regularization is also called _weight decay_ in the context of neural networks. Don't let the different \n",
    "name confuse you: weight decay is mathematically the exact same as L2 regularization.\n",
    "\n",
    "In Keras, weight regularization is added by passing _weight regularizer instances_ to layers as keyword arguments. Let's add L2 weight \n",
    "regularization to our movie review classification network:"
   ]
  },
  {
   "cell_type": "code",
   "execution_count": 22,
   "metadata": {},
   "outputs": [],
   "source": [
    "from tensorflow.keras import regularizers\n",
    "\n",
    "l2_model = models.Sequential()\n",
    "l2_model.add(layers.Dense(16, kernel_regularizer=regularizers.l2(0.001),\n",
    "                          activation='relu', input_shape=(10000,)))\n",
    "l2_model.add(layers.Dense(16, kernel_regularizer=regularizers.l2(0.001),\n",
    "                          activation='relu'))\n",
    "l2_model.add(layers.Dense(1, activation='sigmoid'))"
   ]
  },
  {
   "cell_type": "code",
   "execution_count": 24,
   "metadata": {},
   "outputs": [],
   "source": [
    "l2_model.compile(optimizer='rmsprop',\n",
    "                 loss='binary_crossentropy',\n",
    "                 metrics=['acc'])"
   ]
  },
  {
   "cell_type": "markdown",
   "metadata": {},
   "source": [
    "`l2(0.001)` means that every coefficient in the weight matrix of the layer will add `0.001 * weight_coefficient_value` to the total loss of \n",
    "the network. Note that because this penalty is _only added at training time_, the loss for this network will be much higher at training \n",
    "than at test time.\n",
    "\n",
    "Here's the impact of our L2 regularization penalty:"
   ]
  },
  {
   "cell_type": "code",
   "execution_count": 25,
   "metadata": {},
   "outputs": [
    {
     "name": "stdout",
     "output_type": "stream",
     "text": [
      "Train on 25000 samples, validate on 25000 samples\n",
      "Epoch 1/20\n",
      "25000/25000 [==============================] - 3s 104us/sample - loss: 0.5148 - acc: 0.8144 - val_loss: 0.4099 - val_acc: 0.8638\n",
      "Epoch 2/20\n",
      "25000/25000 [==============================] - 2s 85us/sample - loss: 0.3297 - acc: 0.9018 - val_loss: 0.3399 - val_acc: 0.8885\n",
      "Epoch 3/20\n",
      "25000/25000 [==============================] - 2s 89us/sample - loss: 0.2808 - acc: 0.9171 - val_loss: 0.3362 - val_acc: 0.8867\n",
      "Epoch 4/20\n",
      "25000/25000 [==============================] - 2s 93us/sample - loss: 0.2576 - acc: 0.9265 - val_loss: 0.3386 - val_acc: 0.8845\n",
      "Epoch 5/20\n",
      "25000/25000 [==============================] - 2s 94us/sample - loss: 0.2479 - acc: 0.9287 - val_loss: 0.3516 - val_acc: 0.8803\n",
      "Epoch 6/20\n",
      "25000/25000 [==============================] - 2s 91us/sample - loss: 0.2346 - acc: 0.9363 - val_loss: 0.3745 - val_acc: 0.8731\n",
      "Epoch 7/20\n",
      "25000/25000 [==============================] - 2s 89us/sample - loss: 0.2314 - acc: 0.9366 - val_loss: 0.3796 - val_acc: 0.8729\n",
      "Epoch 8/20\n",
      "25000/25000 [==============================] - 2s 88us/sample - loss: 0.2271 - acc: 0.9370 - val_loss: 0.3993 - val_acc: 0.8655\n",
      "Epoch 9/20\n",
      "25000/25000 [==============================] - 2s 88us/sample - loss: 0.2221 - acc: 0.9414 - val_loss: 0.3665 - val_acc: 0.8777\n",
      "Epoch 10/20\n",
      "25000/25000 [==============================] - 2s 88us/sample - loss: 0.2197 - acc: 0.9412 - val_loss: 0.3773 - val_acc: 0.8748\n",
      "Epoch 11/20\n",
      "25000/25000 [==============================] - 2s 87us/sample - loss: 0.2168 - acc: 0.9427 - val_loss: 0.4008 - val_acc: 0.8690\n",
      "Epoch 12/20\n",
      "25000/25000 [==============================] - 2s 90us/sample - loss: 0.2123 - acc: 0.9432 - val_loss: 0.3818 - val_acc: 0.8749\n",
      "Epoch 13/20\n",
      "25000/25000 [==============================] - 2s 93us/sample - loss: 0.2083 - acc: 0.9454 - val_loss: 0.3946 - val_acc: 0.8730\n",
      "Epoch 14/20\n",
      "25000/25000 [==============================] - 2s 89us/sample - loss: 0.2085 - acc: 0.9449 - val_loss: 0.3907 - val_acc: 0.8746\n",
      "Epoch 15/20\n",
      "25000/25000 [==============================] - 2s 87us/sample - loss: 0.2087 - acc: 0.9444 - val_loss: 0.4256 - val_acc: 0.8647\n",
      "Epoch 16/20\n",
      "25000/25000 [==============================] - 2s 92us/sample - loss: 0.2004 - acc: 0.9480 - val_loss: 0.4226 - val_acc: 0.8654\n",
      "Epoch 17/20\n",
      "25000/25000 [==============================] - 2s 92us/sample - loss: 0.2037 - acc: 0.9452 - val_loss: 0.4426 - val_acc: 0.8613\n",
      "Epoch 18/20\n",
      "25000/25000 [==============================] - 2s 89us/sample - loss: 0.1997 - acc: 0.9478 - val_loss: 0.4099 - val_acc: 0.8696\n",
      "Epoch 19/20\n",
      "25000/25000 [==============================] - 2s 92us/sample - loss: 0.2019 - acc: 0.9466 - val_loss: 0.4125 - val_acc: 0.8693\n",
      "Epoch 20/20\n",
      "25000/25000 [==============================] - 2s 88us/sample - loss: 0.1942 - acc: 0.9494 - val_loss: 0.4281 - val_acc: 0.8659\n"
     ]
    }
   ],
   "source": [
    "l2_model_hist = l2_model.fit(x_train, y_train,\n",
    "                             epochs=20,\n",
    "                             batch_size=512,\n",
    "                             validation_data=(x_test, y_test))"
   ]
  },
  {
   "cell_type": "code",
   "execution_count": 26,
   "metadata": {},
   "outputs": [
    {
     "data": {
      "image/png": "[encoded data removed]",
      "text/plain": [
       "<Figure size 432x288 with 1 Axes>"
      ]
     },
     "metadata": {
      "needs_background": "light"
     },
     "output_type": "display_data"
    }
   ],
   "source": [
    "l2_model_val_loss = l2_model_hist.history['val_loss']\n",
    "\n",
    "plt.plot(epochs, original_val_loss, 'b+', label='Original model')\n",
    "plt.plot(epochs, l2_model_val_loss, 'bo', label='L2-regularized model')\n",
    "plt.xlabel('Epochs')\n",
    "plt.ylabel('Validation loss')\n",
    "plt.legend()\n",
    "\n",
    "plt.show()"
   ]
  },
  {
   "cell_type": "markdown",
   "metadata": {},
   "source": [
    "\n",
    "\n",
    "As you can see, the model with L2 regularization (dots) has become much more resistant to overfitting than the reference model (crosses), \n",
    "even though both models have the same number of parameters.\n",
    "\n",
    "As alternatives to L2 regularization, you could use one of the following Keras weight regularizers:"
   ]
  },
  {
   "cell_type": "code",
   "execution_count": 27,
   "metadata": {},
   "outputs": [
    {
     "data": {
      "text/plain": [
       "<tensorflow.python.keras.regularizers.L1L2 at 0xb304c96d8>"
      ]
     },
     "execution_count": 27,
     "metadata": {},
     "output_type": "execute_result"
    }
   ],
   "source": [
    "from tensorflow.keras import regularizers\n",
    "\n",
    "# L1 regularization\n",
    "regularizers.l1(0.001)\n",
    "\n",
    "# L1 and L2 regularization at the same time\n",
    "regularizers.l1_l2(l1=0.001, l2=0.001)"
   ]
  },
  {
   "cell_type": "code",
   "execution_count": 28,
   "metadata": {},
   "outputs": [],
   "source": [
    "from tensorflow.keras import regularizers\n",
    "\n",
    "l1_model = models.Sequential()\n",
    "l1_model.add(layers.Dense(16, kernel_regularizer=regularizers.l1(0.001),\n",
    "                          activation='relu', input_shape=(10000,)))\n",
    "l1_model.add(layers.Dense(16, kernel_regularizer=regularizers.l1(0.001),\n",
    "                          activation='relu'))\n",
    "l1_model.add(layers.Dense(1, activation='sigmoid'))"
   ]
  },
  {
   "cell_type": "code",
   "execution_count": 29,
   "metadata": {},
   "outputs": [],
   "source": [
    "l1_model.compile(optimizer='rmsprop',\n",
    "                 loss='binary_crossentropy',\n",
    "                 metrics=['acc'])"
   ]
  },
  {
   "cell_type": "code",
   "execution_count": 30,
   "metadata": {},
   "outputs": [
    {
     "name": "stdout",
     "output_type": "stream",
     "text": [
      "Train on 25000 samples, validate on 25000 samples\n",
      "Epoch 1/20\n",
      "25000/25000 [==============================] - 3s 102us/sample - loss: 0.9140 - acc: 0.7930 - val_loss: 0.6417 - val_acc: 0.8582\n",
      "Epoch 2/20\n",
      "25000/25000 [==============================] - 2s 90us/sample - loss: 0.6133 - acc: 0.8551 - val_loss: 0.5814 - val_acc: 0.8659\n",
      "Epoch 3/20\n",
      "25000/25000 [==============================] - 2s 90us/sample - loss: 0.5699 - acc: 0.8656 - val_loss: 0.5649 - val_acc: 0.8640\n",
      "Epoch 4/20\n",
      "25000/25000 [==============================] - 2s 89us/sample - loss: 0.5466 - acc: 0.8717 - val_loss: 0.5568 - val_acc: 0.8622\n",
      "Epoch 5/20\n",
      "25000/25000 [==============================] - 2s 98us/sample - loss: 0.5323 - acc: 0.8723 - val_loss: 0.5310 - val_acc: 0.8728\n",
      "Epoch 6/20\n",
      "25000/25000 [==============================] - 2s 97us/sample - loss: 0.5202 - acc: 0.8749 - val_loss: 0.5553 - val_acc: 0.8562\n",
      "Epoch 7/20\n",
      "25000/25000 [==============================] - 2s 98us/sample - loss: 0.5134 - acc: 0.8764 - val_loss: 0.5215 - val_acc: 0.8714\n",
      "Epoch 8/20\n",
      "25000/25000 [==============================] - 2s 96us/sample - loss: 0.5033 - acc: 0.8791 - val_loss: 0.5217 - val_acc: 0.8706\n",
      "Epoch 9/20\n",
      "25000/25000 [==============================] - 2s 95us/sample - loss: 0.4969 - acc: 0.8823 - val_loss: 0.5060 - val_acc: 0.8746\n",
      "Epoch 10/20\n",
      "25000/25000 [==============================] - 2s 93us/sample - loss: 0.4923 - acc: 0.8817 - val_loss: 0.5017 - val_acc: 0.8768\n",
      "Epoch 11/20\n",
      "25000/25000 [==============================] - 2s 91us/sample - loss: 0.4844 - acc: 0.8854 - val_loss: 0.4982 - val_acc: 0.8772\n",
      "Epoch 12/20\n",
      "25000/25000 [==============================] - 2s 92us/sample - loss: 0.4806 - acc: 0.8866 - val_loss: 0.5139 - val_acc: 0.8661\n",
      "Epoch 13/20\n",
      "25000/25000 [==============================] - 2s 93us/sample - loss: 0.4771 - acc: 0.8874 - val_loss: 0.5049 - val_acc: 0.8721\n",
      "Epoch 14/20\n",
      "25000/25000 [==============================] - 2s 94us/sample - loss: 0.4723 - acc: 0.8898 - val_loss: 0.4966 - val_acc: 0.8757\n",
      "Epoch 15/20\n",
      "25000/25000 [==============================] - 2s 98us/sample - loss: 0.4687 - acc: 0.8896 - val_loss: 0.5071 - val_acc: 0.8709\n",
      "Epoch 16/20\n",
      "25000/25000 [==============================] - 2s 91us/sample - loss: 0.4676 - acc: 0.8904 - val_loss: 0.4836 - val_acc: 0.8807\n",
      "Epoch 17/20\n",
      "25000/25000 [==============================] - 2s 90us/sample - loss: 0.4655 - acc: 0.8911 - val_loss: 0.4811 - val_acc: 0.8812\n",
      "Epoch 18/20\n",
      "25000/25000 [==============================] - 2s 94us/sample - loss: 0.4540 - acc: 0.8972 - val_loss: 0.5174 - val_acc: 0.8650\n",
      "Epoch 19/20\n",
      "25000/25000 [==============================] - 2s 94us/sample - loss: 0.4533 - acc: 0.8950 - val_loss: 0.5081 - val_acc: 0.8686\n",
      "Epoch 20/20\n",
      "25000/25000 [==============================] - 2s 94us/sample - loss: 0.4491 - acc: 0.8968 - val_loss: 0.4929 - val_acc: 0.8768\n"
     ]
    }
   ],
   "source": [
    "l1_model_hist = l1_model.fit(x_train, y_train,\n",
    "                             epochs=20,\n",
    "                             batch_size=512,\n",
    "                             validation_data=(x_test, y_test))"
   ]
  },
  {
   "cell_type": "code",
   "execution_count": 31,
   "metadata": {},
   "outputs": [
    {
     "data": {
      "image/png": "[encoded data removed]",
      "text/plain": [
       "<Figure size 432x288 with 1 Axes>"
      ]
     },
     "metadata": {
      "needs_background": "light"
     },
     "output_type": "display_data"
    }
   ],
   "source": [
    "l2_model_val_loss = l2_model_hist.history['val_loss']\n",
    "l1_model_val_loss = l1_model_hist.history['val_loss']\n",
    "\n",
    "plt.plot(epochs, l1_model_val_loss, 'b+', label='L1-regularized model')\n",
    "plt.plot(epochs, l2_model_val_loss, 'bo', label='L2-regularized model')\n",
    "plt.xlabel('Epochs')\n",
    "plt.ylabel('Validation loss')\n",
    "plt.legend()\n",
    "\n",
    "plt.show()"
   ]
  },
  {
   "cell_type": "markdown",
   "metadata": {},
   "source": [
    "## Adding dropout\n",
    "\n",
    "\n",
    "Dropout is one of the most effective and most commonly used regularization techniques for neural networks, developed by Hinton and his \n",
    "students at the University of Toronto. Dropout, applied to a layer, consists of randomly \"dropping out\" (i.e. setting to zero) a number of \n",
    "output features of the layer during training. Let's say a given layer would normally have returned a vector `[0.2, 0.5, 1.3, 0.8, 1.1]` for a \n",
    "given input sample during training; after applying dropout, this vector will have a few zero entries distributed at random, e.g. `[0, 0.5, \n",
    "1.3, 0, 1.1]`. The \"dropout rate\" is the fraction of the features that are being zeroed-out; it is usually set between 0.2 and 0.5. At test \n",
    "time, no units are dropped out, and instead the layer's output values are scaled down by a factor equal to the dropout rate, so as to \n",
    "balance for the fact that more units are active than at training time.\n",
    "\n",
    "Consider a Numpy matrix containing the output of a layer, `layer_output`, of shape `(batch_size, features)`. At training time, we would be \n",
    "zero-ing out at random a fraction of the values in the matrix:"
   ]
  },
  {
   "cell_type": "code",
   "execution_count": 33,
   "metadata": {},
   "outputs": [],
   "source": [
    "layer_output = [[0.3,0.2,1.5,0.0],[0.6,0.1,0.0,0.3],[0.2,1.9,0.3,1.2],[0.7,0.5,1.0,0.0]]"
   ]
  },
  {
   "cell_type": "code",
   "execution_count": 34,
   "metadata": {},
   "outputs": [
    {
     "data": {
      "text/plain": [
       "[[0.3, 0.2, 1.5, 0.0],\n",
       " [0.6, 0.1, 0.0, 0.3],\n",
       " [0.2, 1.9, 0.3, 1.2],\n",
       " [0.7, 0.5, 1.0, 0.0]]"
      ]
     },
     "execution_count": 34,
     "metadata": {},
     "output_type": "execute_result"
    }
   ],
   "source": [
    "layer_output"
   ]
  },
  {
   "cell_type": "code",
   "execution_count": 40,
   "metadata": {},
   "outputs": [
    {
     "data": {
      "text/plain": [
       "array([[0, 1, 1, 1],\n",
       "       [1, 0, 0, 1],\n",
       "       [0, 0, 0, 0],\n",
       "       [1, 1, 0, 0]])"
      ]
     },
     "execution_count": 40,
     "metadata": {},
     "output_type": "execute_result"
    }
   ],
   "source": [
    "np.random.randint(0, high=2, size=np.shape(layer_output))"
   ]
  },
  {
   "cell_type": "code",
   "execution_count": 41,
   "metadata": {},
   "outputs": [],
   "source": [
    "# At training time: we drop out 50% of the units in the output\n",
    "layer_output *= np.random.randint(0, high=2, size=np.shape(layer_output))"
   ]
  },
  {
   "cell_type": "code",
   "execution_count": 42,
   "metadata": {},
   "outputs": [
    {
     "data": {
      "text/plain": [
       "array([[0.3, 0. , 1.5, 0. ],\n",
       "       [0. , 0.1, 0. , 0. ],\n",
       "       [0. , 0. , 0. , 0. ],\n",
       "       [0.7, 0.5, 1. , 0. ]])"
      ]
     },
     "execution_count": 42,
     "metadata": {},
     "output_type": "execute_result"
    }
   ],
   "source": [
    "layer_output"
   ]
  },
  {
   "cell_type": "markdown",
   "metadata": {},
   "source": [
    "\n",
    "At test time, we would be scaling the output down by the dropout rate. Here we scale by 0.5 (because we were previous dropping half the \n",
    "units):"
   ]
  },
  {
   "cell_type": "code",
   "execution_count": 43,
   "metadata": {},
   "outputs": [],
   "source": [
    "# At test time:\n",
    "layer_output *= 0.5"
   ]
  },
  {
   "cell_type": "code",
   "execution_count": 44,
   "metadata": {},
   "outputs": [
    {
     "data": {
      "text/plain": [
       "array([[0.15, 0.  , 0.75, 0.  ],\n",
       "       [0.  , 0.05, 0.  , 0.  ],\n",
       "       [0.  , 0.  , 0.  , 0.  ],\n",
       "       [0.35, 0.25, 0.5 , 0.  ]])"
      ]
     },
     "execution_count": 44,
     "metadata": {},
     "output_type": "execute_result"
    }
   ],
   "source": [
    "layer_output"
   ]
  },
  {
   "cell_type": "markdown",
   "metadata": {},
   "source": [
    "\n",
    "Note that this process can be implemented by doing both operations at training time and leaving the output unchanged at test time, which is \n",
    "often the way it is implemented in practice:"
   ]
  },
  {
   "cell_type": "code",
   "execution_count": 46,
   "metadata": {},
   "outputs": [],
   "source": [
    "# At training time:\n",
    "layer_output *= np.random.randint(0, high=2, size=np.shape(layer_output))\n",
    "# Note that we are scaling *up* rather scaling *down* in this case\n",
    "layer_output /= 0.5"
   ]
  },
  {
   "cell_type": "markdown",
   "metadata": {},
   "source": [
    "\n",
    "This technique may seem strange and arbitrary. Why would this help reduce overfitting? Geoff Hinton has said that he was inspired, among \n",
    "other things, by a fraud prevention mechanism used by banks -- in his own words: _\"I went to my bank. The tellers kept changing and I asked \n",
    "one of them why. He said he didn’t know but they got moved around a lot. I figured it must be because it would require cooperation \n",
    "between employees to successfully defraud the bank. This made me realize that randomly removing a different subset of neurons on each \n",
    "example would prevent conspiracies and thus reduce overfitting\"_.\n",
    "\n",
    "The core idea is that introducing noise in the output values of a layer can break up happenstance patterns that are not significant (what \n",
    "Hinton refers to as \"conspiracies\"), which the network would start memorizing if no noise was present. \n",
    "\n",
    "In Keras you can introduce dropout in a network via the `Dropout` layer, which gets applied to the output of layer right before it, e.g.:"
   ]
  },
  {
   "cell_type": "code",
   "execution_count": 48,
   "metadata": {},
   "outputs": [],
   "source": [
    "from tensorflow.keras import regularizers\n",
    "\n",
    "t_model = models.Sequential()\n",
    "t_model.add(layers.Dropout(0.5))"
   ]
  },
  {
   "cell_type": "markdown",
   "metadata": {},
   "source": [
    "Let's add two `Dropout` layers in our IMDB network to see how well they do at reducing overfitting:"
   ]
  },
  {
   "cell_type": "code",
   "execution_count": 49,
   "metadata": {},
   "outputs": [],
   "source": [
    "dpt_model = models.Sequential()\n",
    "dpt_model.add(layers.Dense(16, activation='relu', input_shape=(10000,)))\n",
    "dpt_model.add(layers.Dropout(0.5))\n",
    "dpt_model.add(layers.Dense(16, activation='relu'))\n",
    "dpt_model.add(layers.Dropout(0.5))\n",
    "dpt_model.add(layers.Dense(1, activation='sigmoid'))\n",
    "\n",
    "dpt_model.compile(optimizer='rmsprop',\n",
    "                  loss='binary_crossentropy',\n",
    "                  metrics=['acc'])"
   ]
  },
  {
   "cell_type": "code",
   "execution_count": 50,
   "metadata": {},
   "outputs": [
    {
     "name": "stdout",
     "output_type": "stream",
     "text": [
      "Train on 25000 samples, validate on 25000 samples\n",
      "Epoch 1/20\n",
      "25000/25000 [==============================] - 3s 103us/sample - loss: 0.5877 - acc: 0.6810 - val_loss: 0.4335 - val_acc: 0.8676\n",
      "Epoch 2/20\n",
      "25000/25000 [==============================] - 2s 87us/sample - loss: 0.4441 - acc: 0.8090 - val_loss: 0.3288 - val_acc: 0.8836\n",
      "Epoch 3/20\n",
      "25000/25000 [==============================] - 2s 94us/sample - loss: 0.3558 - acc: 0.8612 - val_loss: 0.2888 - val_acc: 0.8888\n",
      "Epoch 4/20\n",
      "25000/25000 [==============================] - 2s 92us/sample - loss: 0.3058 - acc: 0.8833 - val_loss: 0.2790 - val_acc: 0.8859\n",
      "Epoch 5/20\n",
      "25000/25000 [==============================] - 2s 92us/sample - loss: 0.2632 - acc: 0.9046 - val_loss: 0.2819 - val_acc: 0.8878\n",
      "Epoch 6/20\n",
      "25000/25000 [==============================] - 2s 91us/sample - loss: 0.2368 - acc: 0.9168 - val_loss: 0.2986 - val_acc: 0.8849\n",
      "Epoch 7/20\n",
      "25000/25000 [==============================] - 2s 91us/sample - loss: 0.2163 - acc: 0.9272 - val_loss: 0.3118 - val_acc: 0.8851\n",
      "Epoch 8/20\n",
      "25000/25000 [==============================] - 2s 97us/sample - loss: 0.1901 - acc: 0.9337 - val_loss: 0.3264 - val_acc: 0.8864\n",
      "Epoch 9/20\n",
      "25000/25000 [==============================] - 2s 91us/sample - loss: 0.1813 - acc: 0.9374 - val_loss: 0.3502 - val_acc: 0.8849\n",
      "Epoch 10/20\n",
      "25000/25000 [==============================] - 2s 90us/sample - loss: 0.1681 - acc: 0.9417 - val_loss: 0.3595 - val_acc: 0.8820\n",
      "Epoch 11/20\n",
      "25000/25000 [==============================] - 2s 92us/sample - loss: 0.1501 - acc: 0.9469 - val_loss: 0.3821 - val_acc: 0.8810\n",
      "Epoch 12/20\n",
      "25000/25000 [==============================] - 2s 90us/sample - loss: 0.1485 - acc: 0.9504 - val_loss: 0.4092 - val_acc: 0.8816\n",
      "Epoch 13/20\n",
      "25000/25000 [==============================] - 2s 96us/sample - loss: 0.1407 - acc: 0.9507 - val_loss: 0.4197 - val_acc: 0.8794\n",
      "Epoch 14/20\n",
      "25000/25000 [==============================] - 2s 90us/sample - loss: 0.1313 - acc: 0.9525 - val_loss: 0.4447 - val_acc: 0.8768\n",
      "Epoch 15/20\n",
      "25000/25000 [==============================] - 2s 88us/sample - loss: 0.1257 - acc: 0.9560 - val_loss: 0.4906 - val_acc: 0.8771\n",
      "Epoch 16/20\n",
      "25000/25000 [==============================] - 2s 88us/sample - loss: 0.1303 - acc: 0.9544 - val_loss: 0.4978 - val_acc: 0.8770\n",
      "Epoch 17/20\n",
      "25000/25000 [==============================] - 2s 88us/sample - loss: 0.1230 - acc: 0.9542 - val_loss: 0.5498 - val_acc: 0.8738\n",
      "Epoch 18/20\n",
      "25000/25000 [==============================] - 2s 91us/sample - loss: 0.1200 - acc: 0.9557 - val_loss: 0.5375 - val_acc: 0.8782\n",
      "Epoch 19/20\n",
      "25000/25000 [==============================] - 2s 94us/sample - loss: 0.1152 - acc: 0.9577 - val_loss: 0.5531 - val_acc: 0.8756\n",
      "Epoch 20/20\n",
      "25000/25000 [==============================] - 2s 92us/sample - loss: 0.1139 - acc: 0.9569 - val_loss: 0.5825 - val_acc: 0.8745\n"
     ]
    }
   ],
   "source": [
    "dpt_model_hist = dpt_model.fit(x_train, y_train,\n",
    "                               epochs=20,\n",
    "                               batch_size=512,\n",
    "                               validation_data=(x_test, y_test))"
   ]
  },
  {
   "cell_type": "markdown",
   "metadata": {},
   "source": [
    "Let's plot the results:"
   ]
  },
  {
   "cell_type": "code",
   "execution_count": 51,
   "metadata": {},
   "outputs": [
    {
     "data": {
      "image/png": "[encoded data removed]",
      "text/plain": [
       "<Figure size 432x288 with 1 Axes>"
      ]
     },
     "metadata": {
      "needs_background": "light"
     },
     "output_type": "display_data"
    }
   ],
   "source": [
    "dpt_model_val_loss = dpt_model_hist.history['val_loss']\n",
    "\n",
    "plt.plot(epochs, original_val_loss, 'b+', label='Original model')\n",
    "plt.plot(epochs, dpt_model_val_loss, 'bo', label='Dropout-regularized model')\n",
    "plt.xlabel('Epochs')\n",
    "plt.ylabel('Validation loss')\n",
    "plt.legend()\n",
    "\n",
    "plt.show()"
   ]
  },
  {
   "cell_type": "markdown",
   "metadata": {},
   "source": [
    "\n",
    "Again, a clear improvement over the reference network.\n",
    "\n",
    "To recap: here the most common ways to prevent overfitting in neural networks:\n",
    "\n",
    "* Getting more training data.\n",
    "* Reducing the capacity of the network.\n",
    "* Adding weight regularization.\n",
    "* Adding dropout."
   ]
  }
 ],
 "metadata": {
  "kernelspec": {
   "display_name": "Python 3",
   "language": "python",
   "name": "python3"
  },
  "language_info": {
   "codemirror_mode": {
    "name": "ipython",
    "version": 3
   },
   "file_extension": ".py",
   "mimetype": "text/x-python",
   "name": "python",
   "nbconvert_exporter": "python",
   "pygments_lexer": "ipython3",
   "version": "3.7.3"
  }
 },
 "nbformat": 4,
 "nbformat_minor": 2
}
