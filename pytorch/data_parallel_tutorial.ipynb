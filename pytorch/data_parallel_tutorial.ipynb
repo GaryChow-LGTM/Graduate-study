{
 "cells": [
  {
   "cell_type": "code",
   "execution_count": null,
   "metadata": {},
   "outputs": [],
   "source": [
    "%matplotlib inline"
   ]
  },
  {
   "cell_type": "markdown",
   "metadata": {},
   "source": [
    "\n",
    "Optional: Data Parallelism\n",
    "==========================\n",
    "**Authors**: `Sung Kim <https://github.com/hunkim>`_ and `Jenny Kang <https://github.com/jennykang>`_\n",
    "\n",
    "In this tutorial, we will learn how to use multiple GPUs using ``DataParallel``.\n",
    "\n",
    "It's very easy to use GPUs with PyTorch. You can put the model on a GPU:\n",
    "\n",
    ".. code:: python\n",
    "\n",
    "    device = torch.device(\"cuda:0\")\n",
    "    model.to(device)\n",
    "\n",
    "Then, you can copy all your tensors to the GPU:\n",
    "\n",
    ".. code:: python\n",
    "\n",
    "    mytensor = my_tensor.to(device)\n",
    "\n",
    "Please note that just calling ``my_tensor.to(device)`` returns a new copy of\n",
    "``my_tensor`` on GPU instead of rewriting ``my_tensor``. You need to assign it to\n",
    "a new tensor and use that tensor on the GPU.\n",
    "\n",
    "It's natural to execute your forward, backward propagations on multiple GPUs.\n",
    "However, Pytorch will only use one GPU by default. You can easily run your\n",
    "operations on multiple GPUs by making your model run parallelly using\n",
    "``DataParallel``:\n",
    "\n",
    ".. code:: python\n",
    "\n",
    "    model = nn.DataParallel(model)\n",
    "\n",
    "That's the core behind this tutorial. We will explore it in more detail below.\n",
    "\n"
   ]
  },
  {
   "cell_type": "markdown",
   "metadata": {},
   "source": [
    "Imports and parameters\n",
    "----------------------\n",
    "\n",
    "Import PyTorch modules and define parameters.\n",
    "\n",
    "\n"
   ]
  },
  {
   "cell_type": "code",
   "execution_count": 1,
   "metadata": {},
   "outputs": [],
   "source": [
    "import torch\n",
    "import torch.nn as nn\n",
    "from torch.utils.data import Dataset, DataLoader\n",
    "\n",
    "# Parameters and DataLoaders\n",
    "input_size = 5\n",
    "output_size = 2\n",
    "\n",
    "batch_size = 30\n",
    "data_size = 100"
   ]
  },
  {
   "cell_type": "markdown",
   "metadata": {},
   "source": [
    "Device\n",
    "\n",
    "\n"
   ]
  },
  {
   "cell_type": "code",
   "execution_count": 2,
   "metadata": {},
   "outputs": [],
   "source": [
    "device = torch.device(\"cuda:0\" if torch.cuda.is_available() else \"cpu\")"
   ]
  },
  {
   "cell_type": "markdown",
   "metadata": {},
   "source": [
    "Dummy DataSet\n",
    "-------------\n",
    "\n",
    "Make a dummy (random) dataset. You just need to implement the\n",
    "getitem\n",
    "\n",
    "\n"
   ]
  },
  {
   "cell_type": "markdown",
   "metadata": {},
   "source": [
    "首先看`torch.utils.data.Dataset`这个抽象类。可以使用这个抽象类来构造pytorch数据集。要注意的是以这个类构造的子类，一定要定义两个函数一个是__len__，另一个是__getitem__，前者提供数据集size，而后者通过给定索引获取数据和标签。__getitem__一次只能获取一个数据（不知道是不是强制性的），所以通过torch.utils.data.DataLoader来定义一个新的迭代器，实现batch读取。\n"
   ]
  },
  {
   "cell_type": "code",
   "execution_count": 3,
   "metadata": {},
   "outputs": [],
   "source": [
    "#定义随机加载数据类\n",
    "class RandomDataset(Dataset):\n",
    "    #把Input_size给size data_size给length 造成一个(5,3)的矩阵\n",
    "    def __init__(self, size, length):\n",
    "        self.len = length\n",
    "        self.data = torch.randn(length, size)\n",
    "\n",
    "    def __getitem__(self, index):\n",
    "        return self.data[index]\n",
    "\n",
    "    def __len__(self):\n",
    "        return self.len\n",
    "\n",
    "    \n",
    "# 随机加载数据\n",
    "rand_loader = DataLoader(dataset=RandomDataset(input_size, data_size),\n",
    "                         batch_size=batch_size, shuffle=True)"
   ]
  },
  {
   "cell_type": "markdown",
   "metadata": {},
   "source": [
    "Simple Model\n",
    "------------\n",
    "\n",
    "For the demo, our model just gets an input, performs a linear operation, and\n",
    "gives an output. However, you can use ``DataParallel`` on any model (CNN, RNN,\n",
    "Capsule Net etc.)\n",
    "\n",
    "We've placed a print statement inside the model to monitor the size of input\n",
    "and output tensors.\n",
    "Please pay attention to what is printed at batch rank 0.\n",
    "\n",
    "\n"
   ]
  },
  {
   "cell_type": "code",
   "execution_count": 4,
   "metadata": {},
   "outputs": [],
   "source": [
    "class Model(nn.Module):\n",
    "    # Our model\n",
    "    \n",
    "    def __init__(self, input_size, output_size):\n",
    "        super(Model, self).__init__()\n",
    "        self.fc = nn.Linear(input_size, output_size)\n",
    "\n",
    "    def forward(self, input):\n",
    "        output = self.fc(input)\n",
    "        print(\"\\tIn Model: input size\", input.size(),\n",
    "              \"output size\", output.size())\n",
    "\n",
    "        return output"
   ]
  },
  {
   "cell_type": "markdown",
   "metadata": {},
   "source": [
    "Create Model and DataParallel\n",
    "-----------------------------\n",
    "\n",
    "这是本教程的核心部分。首先，我们需要制作一个模型实例，并检查是否有多个GPU。如果我们有多个GPU，可以使用封装模型`nn.DataParallel`。然后我们可以将模型放在GPU上`model.to(device)`\n",
    "\n",
    "\n"
   ]
  },
  {
   "cell_type": "code",
   "execution_count": 8,
   "metadata": {},
   "outputs": [
    {
     "name": "stdout",
     "output_type": "stream",
     "text": [
      "Available devices  1\n"
     ]
    },
    {
     "data": {
      "text/plain": [
       "Model(\n",
       "  (fc): Linear(in_features=5, out_features=2, bias=True)\n",
       ")"
      ]
     },
     "execution_count": 8,
     "metadata": {},
     "output_type": "execute_result"
    }
   ],
   "source": [
    "model = Model(input_size, output_size)\n",
    "\n",
    "if torch.cuda.device_count() > 1:\n",
    "  print(\"Let's use\", torch.cuda.device_count(), \"GPUs!\")\n",
    "  # dim = 0 [30, xxx] -> [10, ...], [10, ...], [10, ...] on 3 GPUs\n",
    "  model = nn.DataParallel(model)\n",
    "\n",
    "print('Available devices ', torch.cuda.device_count())\n",
    "model.to(device)"
   ]
  },
  {
   "cell_type": "markdown",
   "metadata": {},
   "source": [
    "Run the Model\n",
    "-------------\n",
    "\n",
    "Now we can see the sizes of input and output tensors.\n",
    "\n",
    "\n"
   ]
  },
  {
   "cell_type": "code",
   "execution_count": 9,
   "metadata": {},
   "outputs": [
    {
     "name": "stdout",
     "output_type": "stream",
     "text": [
      "\tIn Model: input size torch.Size([30, 5]) output size torch.Size([30, 2])\n",
      "Outside: input size torch.Size([30, 5]) output_size torch.Size([30, 2])\n",
      "\tIn Model: input size torch.Size([30, 5]) output size torch.Size([30, 2])\n",
      "Outside: input size torch.Size([30, 5]) output_size torch.Size([30, 2])\n",
      "\tIn Model: input size torch.Size([30, 5]) output size torch.Size([30, 2])\n",
      "Outside: input size torch.Size([30, 5]) output_size torch.Size([30, 2])\n",
      "\tIn Model: input size torch.Size([10, 5]) output size torch.Size([10, 2])\n",
      "Outside: input size torch.Size([10, 5]) output_size torch.Size([10, 2])\n"
     ]
    }
   ],
   "source": [
    "for data in rand_loader:\n",
    "    input = data.to(device)  #把数据扔进device里\n",
    "    output = model(input)\n",
    "    print(\"Outside: input size\", input.size(),\n",
    "          \"output_size\", output.size())"
   ]
  },
  {
   "cell_type": "markdown",
   "metadata": {},
   "source": [
    "Results\n",
    "-------\n",
    "\n",
    "If you have no GPU or one GPU, when we batch 30 inputs and 30 outputs, the model gets 30 and outputs 30 as\n",
    "expected. But if you have multiple GPUs, then you can get results like this.\n",
    "\n",
    "2 GPUs\n",
    "~~~~~~\n",
    "\n",
    "If you have 2, you will see:\n",
    "\n",
    ".. code:: bash\n",
    "\n",
    "    # on 2 GPUs\n",
    "    Let's use 2 GPUs!\n",
    "        In Model: input size torch.Size([15, 5]) output size torch.Size([15, 2])\n",
    "        In Model: input size torch.Size([15, 5]) output size torch.Size([15, 2])\n",
    "    Outside: input size torch.Size([30, 5]) output_size torch.Size([30, 2])\n",
    "        In Model: input size torch.Size([15, 5]) output size torch.Size([15, 2])\n",
    "        In Model: input size torch.Size([15, 5]) output size torch.Size([15, 2])\n",
    "    Outside: input size torch.Size([30, 5]) output_size torch.Size([30, 2])\n",
    "        In Model: input size torch.Size([15, 5]) output size torch.Size([15, 2])\n",
    "        In Model: input size torch.Size([15, 5]) output size torch.Size([15, 2])\n",
    "    Outside: input size torch.Size([30, 5]) output_size torch.Size([30, 2])\n",
    "        In Model: input size torch.Size([5, 5]) output size torch.Size([5, 2])\n",
    "        In Model: input size torch.Size([5, 5]) output size torch.Size([5, 2])\n",
    "    Outside: input size torch.Size([10, 5]) output_size torch.Size([10, 2])\n",
    "\n",
    "3 GPUs\n",
    "~~~~~~\n",
    "\n",
    "If you have 3 GPUs, you will see:\n",
    "\n",
    ".. code:: bash\n",
    "\n",
    "    Let's use 3 GPUs!\n",
    "        In Model: input size torch.Size([10, 5]) output size torch.Size([10, 2])\n",
    "        In Model: input size torch.Size([10, 5]) output size torch.Size([10, 2])\n",
    "        In Model: input size torch.Size([10, 5]) output size torch.Size([10, 2])\n",
    "    Outside: input size torch.Size([30, 5]) output_size torch.Size([30, 2])\n",
    "        In Model: input size torch.Size([10, 5]) output size torch.Size([10, 2])\n",
    "        In Model: input size torch.Size([10, 5]) output size torch.Size([10, 2])\n",
    "        In Model: input size torch.Size([10, 5]) output size torch.Size([10, 2])\n",
    "    Outside: input size torch.Size([30, 5]) output_size torch.Size([30, 2])\n",
    "        In Model: input size torch.Size([10, 5]) output size torch.Size([10, 2])\n",
    "        In Model: input size torch.Size([10, 5]) output size torch.Size([10, 2])\n",
    "        In Model: input size torch.Size([10, 5]) output size torch.Size([10, 2])\n",
    "    Outside: input size torch.Size([30, 5]) output_size torch.Size([30, 2])\n",
    "        In Model: input size torch.Size([4, 5]) output size torch.Size([4, 2])\n",
    "        In Model: input size torch.Size([4, 5]) output size torch.Size([4, 2])\n",
    "        In Model: input size torch.Size([2, 5]) output size torch.Size([2, 2])\n",
    "    Outside: input size torch.Size([10, 5]) output_size torch.Size([10, 2])\n",
    "\n",
    "8 GPUs\n",
    "~~~~~~~~~~~~~~\n",
    "\n",
    "If you have 8, you will see:\n",
    "\n",
    ".. code:: bash\n",
    "\n",
    "    Let's use 8 GPUs!\n",
    "        In Model: input size torch.Size([4, 5]) output size torch.Size([4, 2])\n",
    "        In Model: input size torch.Size([4, 5]) output size torch.Size([4, 2])\n",
    "        In Model: input size torch.Size([2, 5]) output size torch.Size([2, 2])\n",
    "        In Model: input size torch.Size([4, 5]) output size torch.Size([4, 2])\n",
    "        In Model: input size torch.Size([4, 5]) output size torch.Size([4, 2])\n",
    "        In Model: input size torch.Size([4, 5]) output size torch.Size([4, 2])\n",
    "        In Model: input size torch.Size([4, 5]) output size torch.Size([4, 2])\n",
    "        In Model: input size torch.Size([4, 5]) output size torch.Size([4, 2])\n",
    "    Outside: input size torch.Size([30, 5]) output_size torch.Size([30, 2])\n",
    "        In Model: input size torch.Size([4, 5]) output size torch.Size([4, 2])\n",
    "        In Model: input size torch.Size([4, 5]) output size torch.Size([4, 2])\n",
    "        In Model: input size torch.Size([4, 5]) output size torch.Size([4, 2])\n",
    "        In Model: input size torch.Size([4, 5]) output size torch.Size([4, 2])\n",
    "        In Model: input size torch.Size([4, 5]) output size torch.Size([4, 2])\n",
    "        In Model: input size torch.Size([4, 5]) output size torch.Size([4, 2])\n",
    "        In Model: input size torch.Size([2, 5]) output size torch.Size([2, 2])\n",
    "        In Model: input size torch.Size([4, 5]) output size torch.Size([4, 2])\n",
    "    Outside: input size torch.Size([30, 5]) output_size torch.Size([30, 2])\n",
    "        In Model: input size torch.Size([4, 5]) output size torch.Size([4, 2])\n",
    "        In Model: input size torch.Size([4, 5]) output size torch.Size([4, 2])\n",
    "        In Model: input size torch.Size([4, 5]) output size torch.Size([4, 2])\n",
    "        In Model: input size torch.Size([4, 5]) output size torch.Size([4, 2])\n",
    "        In Model: input size torch.Size([4, 5]) output size torch.Size([4, 2])\n",
    "        In Model: input size torch.Size([4, 5]) output size torch.Size([4, 2])\n",
    "        In Model: input size torch.Size([4, 5]) output size torch.Size([4, 2])\n",
    "        In Model: input size torch.Size([2, 5]) output size torch.Size([2, 2])\n",
    "    Outside: input size torch.Size([30, 5]) output_size torch.Size([30, 2])\n",
    "        In Model: input size torch.Size([2, 5]) output size torch.Size([2, 2])\n",
    "        In Model: input size torch.Size([2, 5]) output size torch.Size([2, 2])\n",
    "        In Model: input size torch.Size([2, 5]) output size torch.Size([2, 2])\n",
    "        In Model: input size torch.Size([2, 5]) output size torch.Size([2, 2])\n",
    "        In Model: input size torch.Size([2, 5]) output size torch.Size([2, 2])\n",
    "    Outside: input size torch.Size([10, 5]) output_size torch.Size([10, 2])\n",
    "\n",
    "\n"
   ]
  },
  {
   "cell_type": "markdown",
   "metadata": {},
   "source": [
    "Summary\n",
    "-------\n",
    "\n",
    "DataParallel splits your data automatically and sends job orders to multiple\n",
    "models on several GPUs. After each model finishes their job, DataParallel\n",
    "collects and merges the results before returning it to you.\n",
    "\n",
    "For more information, please check out\n",
    "https://pytorch.org/tutorials/beginner/former\\_torchies/parallelism\\_tutorial.html.\n",
    "\n",
    "\n"
   ]
  }
 ],
 "metadata": {
  "kernelspec": {
   "display_name": "Python 3",
   "language": "python",
   "name": "python3"
  },
  "language_info": {
   "codemirror_mode": {
    "name": "ipython",
    "version": 3
   },
   "file_extension": ".py",
   "mimetype": "text/x-python",
   "name": "python",
   "nbconvert_exporter": "python",
   "pygments_lexer": "ipython3",
   "version": "3.7.3"
  }
 },
 "nbformat": 4,
 "nbformat_minor": 1
}
