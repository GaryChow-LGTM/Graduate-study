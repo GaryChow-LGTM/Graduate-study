{
 "cells": [
  {
   "cell_type": "code",
   "execution_count": null,
   "metadata": {},
   "outputs": [],
   "source": [
    "%matplotlib inline"
   ]
  },
  {
   "cell_type": "markdown",
   "metadata": {},
   "source": [
    "\n",
    "Training a Classifier\n",
    "=====================\n",
    "\n",
    "This is it. You have seen how to define neural networks, compute loss and make\n",
    "updates to the weights of the network.\n",
    "\n",
    "Now you might be thinking,\n",
    "\n",
    "What about data?\n",
    "----------------\n",
    "\n",
    "Generally, when you have to deal with image, text, audio or video data,\n",
    "you can use standard python packages that load data into a numpy array.\n",
    "Then you can convert this array into a ``torch.*Tensor``.\n",
    "\n",
    "-  For images, packages such as Pillow, OpenCV are useful\n",
    "-  For audio, packages such as scipy and librosa\n",
    "-  For text, either raw Python or Cython based loading, or NLTK and\n",
    "   SpaCy are useful\n",
    "\n",
    "Specifically for vision, we have created a package called\n",
    "``torchvision``, that has data loaders for common datasets such as\n",
    "Imagenet, CIFAR10, MNIST, etc. and data transformers for images, viz.,\n",
    "``torchvision.datasets`` and ``torch.utils.data.DataLoader``.\n",
    "\n",
    "This provides a huge convenience and avoids writing boilerplate code.\n",
    "\n",
    "For this tutorial, we will use the CIFAR10 dataset.\n",
    "It has the classes: ‘airplane’, ‘automobile’, ‘bird’, ‘cat’, ‘deer’,\n",
    "‘dog’, ‘frog’, ‘horse’, ‘ship’, ‘truck’. The images in CIFAR-10 are of\n",
    "size 3x32x32, i.e. 3-channel color images of 32x32 pixels in size.\n",
    "\n",
    ".. figure:: /_static/img/cifar10.png\n",
    "   :alt: cifar10\n",
    "\n",
    "   cifar10\n",
    "\n",
    "\n",
    "Training an image classifier\n",
    "----------------------------\n",
    "\n",
    "We will do the following steps in order:\n",
    "\n",
    "1. Load and normalizing the CIFAR10 training and test datasets using\n",
    "   ``torchvision``\n",
    "2. Define a Convolutional Neural Network\n",
    "3. Define a loss function\n",
    "4. Train the network on the training data\n",
    "5. Test the network on the test data\n",
    "\n",
    "1. Loading and normalizing CIFAR10\n",
    "^^^^^^^^^^^^^^^^^^^^^^^^^^^^^^^^^^\n",
    "\n",
    "Using ``torchvision``, it’s extremely easy to load CIFAR10.\n",
    "\n"
   ]
  },
  {
   "cell_type": "code",
   "execution_count": 1,
   "metadata": {},
   "outputs": [],
   "source": [
    "import torch\n",
    "import torchvision\n",
    "import torchvision.transforms as transforms"
   ]
  },
  {
   "cell_type": "markdown",
   "metadata": {},
   "source": [
    "The output of torchvision datasets are PILImage images of range [0, 1].\n",
    "We transform them to Tensors of normalized range [-1, 1].\n",
    "<div class=\"alert alert-info\"><h4>Note</h4><p>If running on Windows and you get a BrokenPipeError, try setting\n",
    "    the num_worker of torch.utils.data.DataLoader() to 0.</p></div>\n",
    "\n"
   ]
  },
  {
   "cell_type": "code",
   "execution_count": 2,
   "metadata": {},
   "outputs": [
    {
     "name": "stdout",
     "output_type": "stream",
     "text": [
      "Files already downloaded and verified\n",
      "Files already downloaded and verified\n"
     ]
    }
   ],
   "source": [
    "\"\"\"\n",
    "由于torchvision的datasets的输出是[0,1]的PILImage，\n",
    "所以我们先先归一化为[-1,1]的Tensor.\n",
    "首先定义了一个变换transform，利用的是上面提到的transforms模块中的Compose( )\n",
    "把多个变换组合在一起，可以看到这里面组合了ToTensor和Normalize这两个变换\n",
    "\"\"\"\n",
    "\n",
    "transform = transforms.Compose(\n",
    "    [transforms.ToTensor(),\n",
    "     transforms.Normalize((0.5, 0.5, 0.5), (0.5, 0.5, 0.5))])\n",
    "\n",
    "\"\"\"\n",
    "Normalize对每个通道执行以下操作：\n",
    "image = (image - mean) / std\n",
    "参数mean, std以0.5或0.5的形式传递。这将使图像在[-1,1]范围内归一化。\n",
    "例如，最小值0将转换为(0-0.5)/0.5=-1，最大值1将转换为(1-0.5)/0.5=1.\n",
    "如果您想将图像恢复到[0,1]范围，则可以使用，\n",
    "image = ((image * std) + mean)\n",
    "\n",
    "\n",
    "https://pytorch.org/docs/stable/torchvision/transforms.html#torchvision.transforms.Normalize\n",
    "两个参数都是“每个通道的序列”。彩色图像具有三个通道（红色，绿色，蓝色），\n",
    "因此您需要三个参数来标准化每个通道。\n",
    "第一个元组（0.5，0.5，0.5）是所有三个通道的平均值，第二个元组（0.5，0.5，0.5）是所有三个通道的标准偏差。\n",
    "\"\"\"\n",
    "\n",
    "\n",
    "\n",
    "\"\"\"\n",
    "定义了我们的训练集，名字就叫trainset，至于后面这一堆，其实就是一个类：\n",
    "torchvision.datasets.CIFAR10( )也是封装好了的，就在我前面提到的torchvision.datasets\n",
    "模块中,不必深究，如果想深究就看我这段代码后面贴的图1，其实就是在下载数据\n",
    "（不翻墙可能会慢一点吧）然后进行变换，可以看到transform就是我们上面定义的transform\n",
    "\"\"\"\n",
    "trainset = torchvision.datasets.CIFAR10(root='./data', train=True,\n",
    "                                        download=True, transform=transform)\n",
    "\n",
    "\n",
    "\n",
    "\n",
    "\n",
    "\"\"\"\n",
    "trainloader其实是一个比较重要的东西，我们后面就是通过trainloader把数据传入网\n",
    "络，当然这里的trainloader其实是个变量名，可以随便取，重点是他是由后面的\n",
    "torch.utils.data.DataLoader()定义的，这个东西来源于torch.utils.data模块，\n",
    "网页链接http://pytorch.org/docs/0.3.0/data.html，这个类可见我后面图2\n",
    "\"\"\"\n",
    "trainloader = torch.utils.data.DataLoader(trainset, batch_size=4,\n",
    "                                          shuffle=True, num_workers=0)\n",
    "#shuffle 为是否打乱\n",
    "\n",
    "\n",
    "# 对于测试集的操作和训练集一样，不再赘述了\n",
    "testset = torchvision.datasets.CIFAR10(root='./data', train=False,\n",
    "                                       download=True, transform=transform)\n",
    "testloader = torch.utils.data.DataLoader(testset, batch_size=4,\n",
    "                                         shuffle=False, num_workers=0)\n",
    "# num_workers> 0不适用于Windows\n",
    "\n",
    "\n",
    "\n",
    "# 类别信息也是需要我们给定的\n",
    "classes = ('plane', 'car', 'bird', 'cat',\n",
    "           'deer', 'dog', 'frog', 'horse', 'ship', 'truck')"
   ]
  },
  {
   "cell_type": "markdown",
   "metadata": {},
   "source": [
    "Let us show some of the training images, for fun.\n",
    "\n"
   ]
  },
  {
   "cell_type": "code",
   "execution_count": 3,
   "metadata": {},
   "outputs": [
    {
     "data": {
      "text/plain": [
       "<Figure size 640x480 with 1 Axes>"
      ]
     },
     "metadata": {},
     "output_type": "display_data"
    },
    {
     "name": "stdout",
     "output_type": "stream",
     "text": [
      "plane truck   dog   car\n"
     ]
    }
   ],
   "source": [
    "import matplotlib.pyplot as plt\n",
    "import numpy as np\n",
    "# functions to show an image\n",
    "\n",
    "\n",
    "def imshow(img):\n",
    "    img = img / 2 + 0.5     # unnormalize ,见上个代码块的normalize\n",
    "    npimg = img.numpy()\n",
    "    plt.imshow(np.transpose(npimg, (1, 2, 0)))\n",
    "    plt.show()\n",
    "    \n",
    "\"\"\"\n",
    "np.transpose方法介绍\n",
    ">>> x = np.ones((1, 2, 3))\n",
    ">>> np.transpose(x, (1, 0, 2)).shape\n",
    "(2, 1, 3)\n",
    "\"\"\"\n",
    "\n",
    "# get some random training images\n",
    "dataiter = iter(trainloader)   #iter()函数用来生成迭代器\n",
    "images, labels = dataiter.next()  #next()返回迭代器的下一个项目\n",
    "\n",
    "# print(\"images:\",labels, \"labels:\",labels)\n",
    "# images: tensor([1, 2, 8, 9]) labels: tensor([1, 2, 8, 9])\n",
    "\n",
    "# show images\n",
    "imshow(torchvision.utils.make_grid(images))\n",
    "# print labels\n",
    "print(' '.join('%5s' % classes[labels[j]] for j in range(4)))"
   ]
  },
  {
   "cell_type": "markdown",
   "metadata": {},
   "source": [
    "2. Define a Convolutional Neural Network\n",
    "^^^^^^^^^^^^^^^^^^^^^^^^^^^^^^^^^^^^^^\n",
    "Copy the neural network from the Neural Networks section before and modify it to\n",
    "take 3-channel images (instead of 1-channel images as it was defined).\n",
    "\n"
   ]
  },
  {
   "cell_type": "markdown",
   "metadata": {},
   "source": [
    "torch.nn中大多数layer在torch.nn.funtional中都有一个与之对应的函数。二者的区别在于：\n",
    "\n",
    "`torch.nn.Module`中实现layer的都是一个特殊的类，可以去查阅，他们都是以class xxxx来定义的，会自动提取可学习的参数\n",
    "\n",
    "而`nn.functional`中的函数，更像是纯函数，由def function( )定义，只是进行简单的数学运算而已。\n",
    "\n",
    "说到这里你可能就明白二者的区别了，`functional中的函数是一个确定的不变的运算公式，输入数据产生输出就ok`，\n",
    "\n",
    "而深度学习中会有很多权重是在不断更新的，不可能每进行一次forward就用新的权重重新来定义一遍函数来进行计算，所以说就会采用类的方式，以确保能在参数发生变化时仍能使用我们之前定好的运算步骤。\n",
    "\n",
    "所以从这个分析就可以看出什么时候改用nn.Module中的layer了：\n",
    "\n",
    "`如果模型有可学习的参数，最好使用nn.Module对应的相关layer`，否则二者都可以使用，没有什么区别。\n",
    "\n",
    "比如此例中的Relu其实没有可学习的参数，只是进行一个运算而已，所以使用的就是functional中的relu函数，\n",
    "\n",
    "而卷积层和全连接层都有可学习的参数，所以用的是nn.Module中的类。\n",
    "\n",
    "不具备可学习参数的层，将它们用函数代替，这样可以不用放在构造函数中进行初始化。\n"
   ]
  },
  {
   "cell_type": "code",
   "execution_count": 4,
   "metadata": {},
   "outputs": [],
   "source": [
    "import torch.nn as nn\n",
    "import torch.nn.functional as F\n",
    "from torch.autograd import Variable \n",
    "\n",
    "# 我们定义网络时一般是继承的torch.nn.Module创建新的子类\n",
    "class Net(nn.Module):  \n",
    "    def __init__(self):\n",
    "        super(Net, self).__init__() \n",
    "        # 第二、三行都是python类继承的基本操作,\n",
    "        # 此写法应该是python2.7的继承格式,但python3里写这个好像也可以\n",
    "        \n",
    "        # 定义conv1函数的是图像卷积函数：输入为图像（3个频道，即灰度图）,输出为 6张特征图, 卷积核为5x5正方形\n",
    "        self.conv1 = nn.Conv2d(3, 6, 5)\n",
    "        \n",
    "        # 使用2x2的窗口进行最大池化Max pooling\n",
    "        self.pool = nn.MaxPool2d(2, 2)\n",
    "        \n",
    "        # 定义conv2函数的是图像卷积函数：输入为6张特征图,输出为16张特征图, 卷积核为5x5正方形\n",
    "        self.conv2 = nn.Conv2d(6, 16, 5)\n",
    "        \n",
    "        # 定义fc1（fullconnect）全连接函数1为线性函数：y = Wx + b，并将16*5*5个节点连接到120个节点上\n",
    "        self.fc1 = nn.Linear(16 * 5 * 5, 120)\n",
    "        \n",
    "        #定义fc2（fullconnect）全连接函数2为线性函数：y = Wx + b，并将120个节点连接到84个节点上\n",
    "        self.fc2 = nn.Linear(120, 84)\n",
    "        \n",
    "        #定义fc2（fullconnect）全连接函数2为线性函数：y = Wx + b，并将84个节点连接到10个节点上\n",
    "        self.fc3 = nn.Linear(84, 10)\n",
    "\n",
    "    def forward(self, x):\n",
    "        #输入x经过卷积conv1之后，经过激活函数ReLU，进行最大池化Max pooling，然后更新到x\n",
    "        x = self.pool(F.relu(self.conv1(x)))\n",
    "        \n",
    "        #输入x经过卷积conv2之后，经过激活函数ReLU，进行最大池化Max pooling，然后更新到x\n",
    "        x = self.pool(F.relu(self.conv2(x)))\n",
    "        \n",
    "        \n",
    "        \"\"\"\n",
    "         .view( )是一个tensor的方法，使得tensor改变size但是元素的总数是不变的。\n",
    "        第一个参数-1是说这个参数由另一个参数确定， \n",
    "        比如矩阵在元素总数一定的情况下，确定列数就能确定行数。\n",
    "        那么为什么这里只关心列数不关心行数呢，因为马上就要进入全连接层了，\n",
    "        而全连接层说白了就是矩阵乘法，你会发现第一个全连接层的首参数是16*5*5，\n",
    "        所以要保证能够相乘，在矩阵乘法之前就要把x调到正确的size\n",
    "        更多的Tensor方法参考Tensor: http://pytorch.org/docs/0.3.0/tensors.html\n",
    "        \n",
    "        \"\"\"\n",
    "        x = x.view(-1, 16 * 5 * 5)\n",
    "        \n",
    "        \n",
    "        \n",
    "        #输入x经过全连接1，再经过ReLU激活函数，然后更新x\n",
    "        x = F.relu(self.fc1(x))\n",
    "        \n",
    "        #输入x经过全连接2，再经过ReLU激活函数，然后更新x\n",
    "        x = F.relu(self.fc2(x))\n",
    "        \n",
    "        #输入x经过全连接3，然后更新x\n",
    "        x = self.fc3(x)\n",
    "        return x\n",
    "\n",
    "# 和python中一样，类定义完之后实例化就很简单了，我们这里就实例化了一个net\n",
    "net = Net()"
   ]
  },
  {
   "cell_type": "markdown",
   "metadata": {},
   "source": [
    "3. Define a Loss function and optimizer\n",
    "^^^^^^^^^^^^^^^^^^^^^^^^^^^^^^^^^^^^^^^\n",
    "Let's use a Classification Cross-Entropy loss and SGD with momentum.\n",
    "\n"
   ]
  },
  {
   "cell_type": "markdown",
   "metadata": {},
   "source": [
    "pytorch将深度学习中常用的优化方法全部封装在torch.optim之中，所有的优化方法都是继承基类optim.Optimizier"
   ]
  },
  {
   "cell_type": "code",
   "execution_count": 5,
   "metadata": {},
   "outputs": [],
   "source": [
    "import torch.optim as optim  #导入torch.potim模块\n",
    "\n",
    "#同样是用到了神经网络工具箱 nn 中的交叉熵损失函数\n",
    "criterion = nn.CrossEntropyLoss()  \n",
    "\n",
    "#optim模块中的SGD梯度优化方式---随机梯度下降\n",
    "optimizer = optim.SGD(net.parameters(), lr=0.001, momentum=0.9)  #(参数，学习率，动量)"
   ]
  },
  {
   "cell_type": "markdown",
   "metadata": {},
   "source": [
    "4. Train the network\n",
    "^^^^^^^^^^^^^^^^^^^^\n",
    "\n",
    "This is when things start to get interesting.\n",
    "We simply have to loop over our data iterator, and feed the inputs to the\n",
    "network and optimize.\n",
    "\n"
   ]
  },
  {
   "cell_type": "code",
   "execution_count": 6,
   "metadata": {},
   "outputs": [
    {
     "name": "stdout",
     "output_type": "stream",
     "text": [
      "[1,  2000] loss: 2.286\n",
      "[1,  4000] loss: 1.957\n",
      "[1,  6000] loss: 1.725\n",
      "[1,  8000] loss: 1.590\n",
      "[1, 10000] loss: 1.551\n",
      "[1, 12000] loss: 1.483\n",
      "[2,  2000] loss: 1.425\n",
      "[2,  4000] loss: 1.406\n",
      "[2,  6000] loss: 1.382\n",
      "[2,  8000] loss: 1.386\n",
      "[2, 10000] loss: 1.326\n",
      "[2, 12000] loss: 1.326\n",
      "Finished Training\n"
     ]
    }
   ],
   "source": [
    "for epoch in range(2):  # 指定要训练的epoch\n",
    "\n",
    "    running_loss = 0.0  # 定义一个变量方便我们对loss进行输出\n",
    "    for i, data in enumerate(trainloader, 0):\n",
    "        # 使用前面定义的trainloader进行数据输入\n",
    "        # enumerate是python的内置函数，既获得索引也获得数据\n",
    "        \"\"\"\n",
    "        >>>seasons = ['Spring', 'Summer', 'Fall', 'Winter']\n",
    "        >>> list(enumerate(seasons))\n",
    "        [(0, 'Spring'), (1, 'Summer'), (2, 'Fall'), (3, 'Winter')]\n",
    "        >>> list(enumerate(seasons, start=1))       # 下标从 1 开始\n",
    "        [(1, 'Spring'), (2, 'Summer'), (3, 'Fall'), (4, 'Winter')]\n",
    "        \"\"\"\n",
    "        \n",
    "        ## data是从enumerate返回的data，包含数据和标签信息，分别赋值给inputs和labels\n",
    "        inputs, labels = data\n",
    "        \n",
    "        # 要把梯度重新归零，因为反向传播过程中梯度会累加上一次循环的梯度\n",
    "        optimizer.zero_grad()   \n",
    "\n",
    "        # forward + backward + optimize\n",
    "        \n",
    "        # 把数据输进网络net，这个net()在第二步的代码最后一行我们已经定义了\n",
    "        outputs = net(inputs)\n",
    "        \n",
    "        # 损失函数计算损失值，criterion我们在第三步里面定义了\n",
    "        loss = criterion(outputs, labels)\n",
    "        \n",
    "        # loss进行反向传播\n",
    "        loss.backward()\n",
    "        \n",
    "        # 反向传播完之后利用loss值进行权值调整，把优化器的参数进行更新，以便进行下一轮\n",
    "        optimizer.step()\n",
    "\n",
    "        # print结果\n",
    "        running_loss += loss.item()\n",
    "        # 从下面一行代码可以看出它是每循环0-1999共两千次才打印一次，所以每个2000次之类先用running_loss进行累加\n",
    "        if i % 2000 == 1999:   \n",
    "            print('[%d, %5d] loss: %.3f' %\n",
    "                  (epoch + 1, i + 1, running_loss / 2000))  # 然后再除以2000，就得到这两千次的平均损失值\n",
    "            # 这一个2000次结束后，就把running_loss归零，下一个2000次继续使用\n",
    "            running_loss = 0.0\n",
    "\n",
    "print('Finished Training')"
   ]
  },
  {
   "cell_type": "markdown",
   "metadata": {},
   "source": [
    "Let's quickly save our trained model:\n",
    "\n"
   ]
  },
  {
   "cell_type": "code",
   "execution_count": 7,
   "metadata": {},
   "outputs": [],
   "source": [
    "PATH = './cifar_net.pth'\n",
    "torch.save(net.state_dict(), PATH)"
   ]
  },
  {
   "cell_type": "markdown",
   "metadata": {},
   "source": [
    "See `here <https://pytorch.org/docs/stable/notes/serialization.html>`_\n",
    "for more details on saving PyTorch models.\n",
    "\n",
    "5. Test the network on the test data\n",
    "^^^^^^^^^^^^^^^^^^^^^^^^^^^^^^^^^^^^\n",
    "\n",
    "We have trained the network for 2 passes over the training dataset.\n",
    "But we need to check if the network has learnt anything at all.\n",
    "\n",
    "We will check this by predicting the class label that the neural network\n",
    "outputs, and checking it against the ground-truth. If the prediction is\n",
    "correct, we add the sample to the list of correct predictions.\n",
    "\n",
    "Okay, first step. Let us display an image from the test set to get familiar.\n",
    "\n"
   ]
  },
  {
   "cell_type": "code",
   "execution_count": 8,
   "metadata": {},
   "outputs": [
    {
     "data": {
      "image/png": "[encoded data removed]",
      "text/plain": [
       "<Figure size 432x288 with 1 Axes>"
      ]
     },
     "metadata": {
      "needs_background": "light"
     },
     "output_type": "display_data"
    },
    {
     "name": "stdout",
     "output_type": "stream",
     "text": [
      "GroundTruth:    cat  ship  ship plane\n"
     ]
    }
   ],
   "source": [
    " # 创建一个python迭代器，读入的是我们第一步里面就已经加载好的testloader\n",
    "dataiter = iter(testloader) \n",
    "\n",
    " # 返回一个batch_size的图片，根据第一步的设置，应该是4张\n",
    "images, labels = dataiter.next()\n",
    "\n",
    " # 展示这四张图片\n",
    "imshow(torchvision.utils.make_grid(images))\n",
    "\n",
    "# python字符串格式化 ' '.join表示用空格来连接后面的字符串，参考python的join（）方法\n",
    "print('GroundTruth: ', ' '.join('%5s' % classes[labels[j]] for j in range(4)))"
   ]
  },
  {
   "cell_type": "markdown",
   "metadata": {},
   "source": [
    "接下来，让我们重新加载保存的模型（注意：这里不需要保存和重新加载模型，我们只是为了说明如何这样做）："
   ]
  },
  {
   "cell_type": "code",
   "execution_count": 9,
   "metadata": {},
   "outputs": [
    {
     "data": {
      "text/plain": [
       "<All keys matched successfully>"
      ]
     },
     "execution_count": 9,
     "metadata": {},
     "output_type": "execute_result"
    }
   ],
   "source": [
    "net = Net()\n",
    "net.load_state_dict(torch.load(PATH))"
   ]
  },
  {
   "cell_type": "markdown",
   "metadata": {},
   "source": [
    "好的，现在让我们看看神经网络如何看待以上这些示例："
   ]
  },
  {
   "cell_type": "code",
   "execution_count": 10,
   "metadata": {},
   "outputs": [],
   "source": [
    "outputs = net(images)  # 注意这里的images是我们从上面获得的那四张图片"
   ]
  },
  {
   "cell_type": "markdown",
   "metadata": {},
   "source": [
    "输出是10类的能量。一个类别的能量越高，网络就认为该图像属于特定类别。因此，让我们获得最高能量的指数"
   ]
  },
  {
   "cell_type": "code",
   "execution_count": 11,
   "metadata": {},
   "outputs": [
    {
     "name": "stdout",
     "output_type": "stream",
     "text": [
      "Predicted:    cat  ship truck  ship\n"
     ]
    }
   ],
   "source": [
    "_, predicted = torch.max(outputs, 1) # 寻找outputs中每行最大的数，按一维的方式进行输出，输出为两列，我们只要第二列，不需要第二列\n",
    "\n",
    "#具体解释在https://blog.csdn.net/teeyohuang/article/details/79222857\n",
    "# 这个 _ , predicted是python的一种常用的写法，表示后面的函数其实会返回两个值\n",
    "# 但是我们对第一个值不感兴趣，就写个_在那里，把它赋值给_就好，我们只关心第二个值predicted\n",
    "# 比如 _ ,a = 1,2 这中赋值语句在python中是可以通过的，你只关心后面的等式中的第二个位置的值是多少\n",
    "\n",
    "\n",
    "# python的字符串格式化\n",
    "print('Predicted: ', ' '.join('%5s' % classes[predicted[j]]\n",
    "                              for j in range(4)))"
   ]
  },
  {
   "cell_type": "markdown",
   "metadata": {},
   "source": [
    "The results seem pretty good.\n",
    "\n",
    "Let us look at how the network performs on the whole dataset.\n",
    "\n"
   ]
  },
  {
   "cell_type": "code",
   "execution_count": 12,
   "metadata": {},
   "outputs": [
    {
     "name": "stdout",
     "output_type": "stream",
     "text": [
      "Accuracy of the network on the 10000 test images: 53 %\n"
     ]
    }
   ],
   "source": [
    "correct = 0   # 定义预测正确的图片数，初始化为0\n",
    "total = 0     # 总共参与测试的图片数，也初始化为0\n",
    "\n",
    "\"\"\"\n",
    "为了防止跟踪历史（和使用内存），你还可以用“with torch.no_grad(): ”来包装代码块。\n",
    "这在评估一个模型时特别有用，因为模型可能有可训练参数（具有属性“requiresgrad=True”）\n",
    "但我们并不需要整个模型的所有梯度。\n",
    "\n",
    "在测试的时候 禁止梯度计算，防止在测试的时候 测试集对模型的参数进行优化，改变了测试前的模型，从而影响了最终的结果.\n",
    "\"\"\"\n",
    "\n",
    "with torch.no_grad():\n",
    "    for data in testloader:  # 循环每一个batch\n",
    "        images, labels = data \n",
    "        outputs = net(images)  \n",
    "        _, predicted = torch.max(outputs.data, 1)\n",
    "        total += labels.size(0)  # 每次的batchsize\n",
    "        # print(labels.size(0)) \n",
    "        correct += (predicted == labels).sum().item()  # 更新正确分类的图片的数量\n",
    "\n",
    "print('Accuracy of the network on the 10000 test images: %d %%' % (\n",
    "    100 * correct / total))"
   ]
  },
  {
   "cell_type": "markdown",
   "metadata": {},
   "source": [
    "That looks way better than chance, which is 10% accuracy (randomly picking\n",
    "a class out of 10 classes).\n",
    "Seems like the network learnt something.\n",
    "\n",
    "Hmmm, what are the classes that performed well, and the classes that did\n",
    "not perform well:\n",
    "\n"
   ]
  },
  {
   "cell_type": "code",
   "execution_count": 18,
   "metadata": {
    "scrolled": true
   },
   "outputs": [
    {
     "name": "stdout",
     "output_type": "stream",
     "text": [
      "Accuracy of plane : 38 %\n",
      "Accuracy of   car : 60 %\n",
      "Accuracy of  bird : 56 %\n",
      "Accuracy of   cat : 16 %\n",
      "Accuracy of  deer : 40 %\n",
      "Accuracy of   dog : 37 %\n",
      "Accuracy of  frog : 75 %\n",
      "Accuracy of horse : 69 %\n",
      "Accuracy of  ship : 66 %\n",
      "Accuracy of truck : 73 %\n"
     ]
    }
   ],
   "source": [
    "# 定义一个存储每类中测试正确的个数的 列表，初始化为0\n",
    "class_correct = list(0. for i in range(10))\n",
    "\n",
    "# 定义一个存储每类中测试总数的个数的 列表，初始化为0\n",
    "class_total = list(0. for i in range(10))\n",
    "\n",
    "#[0.0, 0.0, 0.0, 0.0, 0.0, 0.0, 0.0, 0.0, 0.0, 0.0] 结果为初始化10个0.0\n",
    "\n",
    "#禁止梯度下降\n",
    "with torch.no_grad():\n",
    "    for data in testloader:  #以一个batch为单位进行循环\n",
    "        images, labels = data\n",
    "        outputs = net(images)\n",
    "        _, predicted = torch.max(outputs, 1)\n",
    "        c = (predicted == labels).squeeze()  #删除维度\n",
    "        #print(\"c.shape = \",c.shape)\n",
    "        #print(\"c = \",c)\n",
    "        for i in range(4):  # 因为每个batch都有4张图片，所以还需要一个4的小循环\n",
    "            label = labels[i]    # 对各个类的进行各自累加\n",
    "            class_correct[label] += c[i].item()\n",
    "            class_total[label] += 1\n",
    "\n",
    "\n",
    "for i in range(10):\n",
    "    print('Accuracy of %5s : %2d %%' % (\n",
    "        classes[i], 100 * class_correct[i] / class_total[i]))"
   ]
  },
  {
   "cell_type": "markdown",
   "metadata": {},
   "source": [
    "Okay, so what next?\n",
    "\n",
    "How do we run these neural networks on the GPU?\n",
    "\n",
    "Training on GPU\n",
    "----------------\n",
    "Just like how you transfer a Tensor onto the GPU, you transfer the neural\n",
    "net onto the GPU.\n",
    "\n",
    "Let's first define our device as the first visible cuda device if we have\n",
    "CUDA available:\n",
    "\n"
   ]
  },
  {
   "cell_type": "code",
   "execution_count": 19,
   "metadata": {},
   "outputs": [
    {
     "name": "stdout",
     "output_type": "stream",
     "text": [
      "cuda:0\n"
     ]
    }
   ],
   "source": [
    "device = torch.device(\"cuda:0\" if torch.cuda.is_available() else \"cpu\")\n",
    "\n",
    "# Assuming that we are on a CUDA machine, this should print a CUDA device:\n",
    "\n",
    "print(device)"
   ]
  },
  {
   "cell_type": "markdown",
   "metadata": {},
   "source": [
    "The rest of this section assumes that ``device`` is a CUDA device.\n",
    "\n",
    "Then these methods will recursively go over all modules and convert their\n",
    "parameters and buffers to CUDA tensors:\n",
    "\n",
    ".. code:: python\n",
    "\n",
    "    net.to(device)\n",
    "\n",
    "\n",
    "Remember that you will have to send the inputs and targets at every step\n",
    "to the GPU too:\n",
    "\n",
    ".. code:: python\n",
    "\n",
    "        inputs, labels = data[0].to(device), data[1].to(device)\n",
    "\n",
    "Why dont I notice MASSIVE speedup compared to CPU? Because your network\n",
    "is really small.\n",
    "\n",
    "**Exercise:** Try increasing the width of your network (argument 2 of\n",
    "the first ``nn.Conv2d``, and argument 1 of the second ``nn.Conv2d`` –\n",
    "they need to be the same number), see what kind of speedup you get.\n",
    "\n",
    "**Goals achieved**:\n",
    "\n",
    "- Understanding PyTorch's Tensor library and neural networks at a high level.\n",
    "- Train a small neural network to classify images\n",
    "\n",
    "Training on multiple GPUs\n",
    "-------------------------\n",
    "If you want to see even more MASSIVE speedup using all of your GPUs,\n",
    "please check out :doc:`data_parallel_tutorial`.\n",
    "\n",
    "Where do I go next?\n",
    "-------------------\n",
    "\n",
    "-  :doc:`Train neural nets to play video games </intermediate/reinforcement_q_learning>`\n",
    "-  `Train a state-of-the-art ResNet network on imagenet`_\n",
    "-  `Train a face generator using Generative Adversarial Networks`_\n",
    "-  `Train a word-level language model using Recurrent LSTM networks`_\n",
    "-  `More examples`_\n",
    "-  `More tutorials`_\n",
    "-  `Discuss PyTorch on the Forums`_\n",
    "-  `Chat with other users on Slack`_\n",
    "\n",
    "\n"
   ]
  },
  {
   "cell_type": "code",
   "execution_count": null,
   "metadata": {},
   "outputs": [],
   "source": []
  }
 ],
 "metadata": {
  "kernelspec": {
   "display_name": "Python 3",
   "language": "python",
   "name": "python3"
  },
  "language_info": {
   "codemirror_mode": {
    "name": "ipython",
    "version": 3
   },
   "file_extension": ".py",
   "mimetype": "text/x-python",
   "name": "python",
   "nbconvert_exporter": "python",
   "pygments_lexer": "ipython3",
   "version": "3.7.3"
  }
 },
 "nbformat": 4,
 "nbformat_minor": 1
}
