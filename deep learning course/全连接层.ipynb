{
 "cells": [
  {
   "cell_type": "code",
   "execution_count": 1,
   "metadata": {},
   "outputs": [
    {
     "name": "stderr",
     "output_type": "stream",
     "text": [
      "Using TensorFlow backend.\n"
     ]
    }
   ],
   "source": [
    "from keras.models import Sequential\n",
    "from keras.layers import Dense, Dropout, Activation\n",
    "from keras.optimizers import SGD\n",
    "from keras.datasets import mnist\n",
    "import numpy as np\n",
    "from keras.datasets import mnist\n",
    "from keras.utils import np_utils\n",
    "np.random.seed(10)\n",
    "from keras.layers import Flatten,Conv2D,MaxPooling2D\n",
    "import os\n",
    "\n",
    "os.environ['TF_CPP_MIN_LOG_LEVEL'] = '2' #过滤警告错误"
   ]
  },
  {
   "cell_type": "markdown",
   "metadata": {},
   "source": [
    "# 使用全连接层方法"
   ]
  },
  {
   "cell_type": "code",
   "execution_count": 2,
   "metadata": {},
   "outputs": [],
   "source": [
    "model = Sequential()\n",
    "model.add(Dense(1024,\n",
    "                input_shape=(784,),\n",
    "                activation = 'tanh'))  # 输入层， 28*28=784，有1024个神经元，设置输入shape为784行 1列\n",
    "model.add(Dropout(0.5))  # 50% dropout\n",
    " \n",
    "model.add(Dense(512,\n",
    "                activation = 'tanh'))  # 隐藏层， 512\n",
    "\n",
    "model.add(Dropout(0.5)) # 50% dropout\n",
    " \n",
    "model.add(Dense(10,\n",
    "                activation = 'softmax'))  # 输出结果， 10"
   ]
  },
  {
   "cell_type": "code",
   "execution_count": 3,
   "metadata": {},
   "outputs": [],
   "source": [
    "sgd = SGD(lr=0.01, decay=1e-6, momentum=0.9, nesterov=True)  # 设定学习效率等参数\n",
    "model.compile(loss = 'categorical_crossentropy', optimizer=sgd, metrics=['accuracy'])  # 使用交叉熵作为loss"
   ]
  },
  {
   "cell_type": "code",
   "execution_count": 4,
   "metadata": {},
   "outputs": [],
   "source": [
    "(x_train,y_train),(x_test,y_test) = mnist.load_data() #使用mnist读取数据（第一次需要下载）"
   ]
  },
  {
   "cell_type": "code",
   "execution_count": 5,
   "metadata": {},
   "outputs": [],
   "source": [
    "X_train = x_train.reshape(x_train.shape[0], x_train.shape[1]*x_train.shape[2])  #第一个参数为batch\n",
    "X_test = x_test.reshape(x_test.shape[0],x_test.shape[1]*x_test.shape[2])\n",
    " \n",
    "Y_train = (np.arange(10) == y_train[:,None]).astype(int)  # 将index转换橙一个one_hot矩阵\n",
    "Y_test = (np.arange(10) == y_test[:,None]).astype(int)"
   ]
  },
  {
   "cell_type": "code",
   "execution_count": 6,
   "metadata": {},
   "outputs": [
    {
     "data": {
      "text/plain": [
       "array([[0, 0, 0, ..., 1, 0, 0],\n",
       "       [0, 0, 1, ..., 0, 0, 0],\n",
       "       [0, 1, 0, ..., 0, 0, 0],\n",
       "       ...,\n",
       "       [0, 0, 0, ..., 0, 0, 0],\n",
       "       [0, 0, 0, ..., 0, 0, 0],\n",
       "       [0, 0, 0, ..., 0, 0, 0]])"
      ]
     },
     "execution_count": 6,
     "metadata": {},
     "output_type": "execute_result"
    }
   ],
   "source": [
    "Y_test"
   ]
  },
  {
   "cell_type": "code",
   "execution_count": 7,
   "metadata": {},
   "outputs": [
    {
     "name": "stdout",
     "output_type": "stream",
     "text": [
      "WARNING:tensorflow:From D:\\Anaconda\\lib\\site-packages\\keras\\backend\\tensorflow_backend.py:422: The name tf.global_variables is deprecated. Please use tf.compat.v1.global_variables instead.\n",
      "\n",
      "Train on 42000 samples, validate on 18000 samples\n",
      "Epoch 1/10\n",
      "42000/42000 [==============================] - 2s 42us/step - loss: 1.0757 - accuracy: 0.6353 - val_loss: 0.4825 - val_accuracy: 0.8496\n",
      "Epoch 2/10\n",
      "42000/42000 [==============================] - 1s 24us/step - loss: 0.8284 - accuracy: 0.7236 - val_loss: 0.4307 - val_accuracy: 0.8706\n",
      "Epoch 3/10\n",
      "42000/42000 [==============================] - 1s 23us/step - loss: 0.7376 - accuracy: 0.7537 - val_loss: 0.4005 - val_accuracy: 0.8813\n",
      "Epoch 4/10\n",
      "42000/42000 [==============================] - 1s 23us/step - loss: 0.7072 - accuracy: 0.7675 - val_loss: 0.4072 - val_accuracy: 0.8767\n",
      "Epoch 5/10\n",
      "42000/42000 [==============================] - 1s 23us/step - loss: 0.6809 - accuracy: 0.7760 - val_loss: 0.3612 - val_accuracy: 0.8919\n",
      "Epoch 6/10\n",
      "42000/42000 [==============================] - 1s 23us/step - loss: 0.6481 - accuracy: 0.7869 - val_loss: 0.3512 - val_accuracy: 0.8954\n",
      "Epoch 7/10\n",
      "42000/42000 [==============================] - 1s 23us/step - loss: 0.6114 - accuracy: 0.8014 - val_loss: 0.3439 - val_accuracy: 0.8994\n",
      "Epoch 8/10\n",
      "42000/42000 [==============================] - 1s 23us/step - loss: 0.6054 - accuracy: 0.8013 - val_loss: 0.3300 - val_accuracy: 0.9002\n",
      "Epoch 9/10\n",
      "42000/42000 [==============================] - 1s 23us/step - loss: 0.5904 - accuracy: 0.8086 - val_loss: 0.3418 - val_accuracy: 0.8947\n",
      "Epoch 10/10\n",
      "42000/42000 [==============================] - 1s 23us/step - loss: 0.5599 - accuracy: 0.8182 - val_loss: 0.3127 - val_accuracy: 0.9036\n"
     ]
    }
   ],
   "source": [
    "# 开始训练\n",
    "# batch_size表示每个训练块包含的数据个数，epochs表示训练的次数，shuffle表示是否每次训练后将batch打乱重\n",
    "# 排，verbose表示是否输出进度log，validation_split指定验证集占比\n",
    "train_history = model.fit(X_train, Y_train, batch_size=200, epochs=10, shuffle=True, verbose=1, validation_split=0.3)\n"
   ]
  },
  {
   "cell_type": "code",
   "execution_count": 8,
   "metadata": {},
   "outputs": [
    {
     "name": "stdout",
     "output_type": "stream",
     "text": [
      "10000/10000 [==============================] - 0s 8us/step\n",
      "\n",
      "The accuracy of the model is 0.905600\n"
     ]
    }
   ],
   "source": [
    "# 开始预测\n",
    "\n",
    "result = model.predict(X_test,batch_size=200,verbose=1)\n",
    " \n",
    "result_max = np.argmax(result, axis = 1)  #取每行中最大的值所对应的索引，即是概率最大的标签\n",
    "test_max = np.argmax(Y_test, axis = 1)  #取真实label\n",
    " \n",
    "result_bool = np.equal(result_max, test_max)  #比对是否正确\n",
    "true_num = np.sum(result_bool)\n",
    "print(\"\")\n",
    "print(\"The accuracy of the model is %f\" % (true_num/len(result_bool)))"
   ]
  },
  {
   "cell_type": "code",
   "execution_count": 9,
   "metadata": {},
   "outputs": [
    {
     "data": {
      "text/plain": [
       "array([ True,  True,  True, ...,  True,  True,  True])"
      ]
     },
     "execution_count": 9,
     "metadata": {},
     "output_type": "execute_result"
    }
   ],
   "source": [
    "result_bool"
   ]
  },
  {
   "cell_type": "code",
   "execution_count": 10,
   "metadata": {},
   "outputs": [
    {
     "data": {
      "text/plain": [
       "array([7, 2, 1, ..., 4, 5, 6], dtype=int64)"
      ]
     },
     "execution_count": 10,
     "metadata": {},
     "output_type": "execute_result"
    }
   ],
   "source": [
    "result_max"
   ]
  },
  {
   "cell_type": "code",
   "execution_count": 11,
   "metadata": {},
   "outputs": [],
   "source": [
    "import matplotlib.pyplot as plt\n",
    "def show_train_history(train_acc,test_acc):\n",
    "    plt.plot(train_history.history[train_acc])\n",
    "    plt.plot(train_history.history[test_acc])\n",
    "    plt.title('Train History')\n",
    "    plt.ylabel('Accuracy')\n",
    "    plt.xlabel('Epoch')\n",
    "    plt.legend(['train', 'test'], loc='upper left')\n",
    "    plt.show()"
   ]
  },
  {
   "cell_type": "code",
   "execution_count": 12,
   "metadata": {},
   "outputs": [
    {
     "data": {
      "text/plain": [
       "dict_keys(['val_loss', 'val_accuracy', 'loss', 'accuracy'])"
      ]
     },
     "execution_count": 12,
     "metadata": {},
     "output_type": "execute_result"
    }
   ],
   "source": [
    "train_history.history.keys()"
   ]
  },
  {
   "cell_type": "code",
   "execution_count": 13,
   "metadata": {},
   "outputs": [
    {
     "data": {
      "image/png": "[encoded data removed]",
      "text/plain": [
       "<Figure size 432x288 with 1 Axes>"
      ]
     },
     "metadata": {
      "needs_background": "light"
     },
     "output_type": "display_data"
    }
   ],
   "source": [
    "show_train_history('accuracy','val_accuracy')"
   ]
  },
  {
   "cell_type": "markdown",
   "metadata": {},
   "source": [
    "评估模型的准确率"
   ]
  },
  {
   "cell_type": "code",
   "execution_count": 14,
   "metadata": {},
   "outputs": [
    {
     "name": "stdout",
     "output_type": "stream",
     "text": [
      "test set\n",
      "10000/10000 [==============================] - 0s 11us/step\n",
      "\n",
      "The test loss is 0.302404\n"
     ]
    }
   ],
   "source": [
    "print(\"test set\")\n",
    "scores = model.evaluate(X_test,Y_test,batch_size=200,verbose=1)\n",
    "print(\"\")\n",
    "print(\"The test loss is %f\" % scores[0])"
   ]
  },
  {
   "cell_type": "markdown",
   "metadata": {},
   "source": [
    "预测结果"
   ]
  },
  {
   "cell_type": "code",
   "execution_count": 15,
   "metadata": {},
   "outputs": [],
   "source": [
    "prediction=model.predict_classes(X_test)"
   ]
  },
  {
   "cell_type": "code",
   "execution_count": 16,
   "metadata": {},
   "outputs": [
    {
     "data": {
      "text/plain": [
       "array([7, 2, 1, 0, 4, 1, 4, 9, 6, 9], dtype=int64)"
      ]
     },
     "execution_count": 16,
     "metadata": {},
     "output_type": "execute_result"
    }
   ],
   "source": [
    "prediction[:10]"
   ]
  },
  {
   "cell_type": "code",
   "execution_count": null,
   "metadata": {},
   "outputs": [],
   "source": []
  },
  {
   "cell_type": "markdown",
   "metadata": {},
   "source": [
    "# 使用卷积层方法"
   ]
  },
  {
   "cell_type": "code",
   "execution_count": 17,
   "metadata": {},
   "outputs": [],
   "source": [
    "(x_train, y_train),(x_test,y_test) = mnist.load_data() #读取MNIST资料"
   ]
  },
  {
   "cell_type": "code",
   "execution_count": 18,
   "metadata": {},
   "outputs": [],
   "source": [
    "#将features（数字影像特征值）以reshape转换为6000*28*28*1的4维矩阵\n",
    "x_train4D = x_train.reshape(x_train.shape[0],28,28,1).astype('float32')\n",
    "x_test4D = x_test.reshape(x_test.shape[0],28,28,1).astype('float32')"
   ]
  },
  {
   "cell_type": "code",
   "execution_count": 19,
   "metadata": {},
   "outputs": [],
   "source": [
    "#将features标准化，可以提高模型预测的准确度，并且更快收敛\n",
    "x_train4D_normalize = x_train4D / 255\n",
    "x_test4D_normalize = x_test4D / 255"
   ]
  },
  {
   "cell_type": "code",
   "execution_count": 20,
   "metadata": {},
   "outputs": [],
   "source": [
    "#使用np_utils.to_categorical, 将训练资料集与测试的label,进行 Onehot encoding 转换\n",
    "y_trainOneHot = np_utils.to_categorical(y_train)\n",
    "y_testOneHot = np_utils.to_categorical(y_test)"
   ]
  },
  {
   "cell_type": "code",
   "execution_count": 21,
   "metadata": {},
   "outputs": [
    {
     "name": "stdout",
     "output_type": "stream",
     "text": [
      "WARNING:tensorflow:From D:\\Anaconda\\lib\\site-packages\\keras\\backend\\tensorflow_backend.py:4070: The name tf.nn.max_pool is deprecated. Please use tf.nn.max_pool2d instead.\n",
      "\n"
     ]
    }
   ],
   "source": [
    "#建立keras的Sequential模型（线性堆积模型），后续只需要使用model.add()方法，将各神经网络层加入模型即可\n",
    "model = Sequential()\n",
    "#建立卷积层1.\n",
    "#输入的数字影像是28*28大小，执行第一次卷积运算，会产生16个卷积核，卷积运算并不会改变影像大小，所以仍然是28*28大小。\n",
    "model.add(Conv2D(filters=16,\n",
    "                kernel_size=(5,5),\n",
    "                padding='same',#补零\n",
    "                input_shape=(28,28,1),\n",
    "                activation='relu'))\n",
    "\n",
    "#建立池化层\n",
    "#输入参数pool_size=(2,2),执行第一次缩减取样，将16个28*28影像，缩小为16个14*14的影像。\n",
    "model.add(MaxPooling2D(pool_size=(2,2)))\n",
    "\n",
    "#建立卷积层2.\n",
    "#输入的数字影像是28*28大小，执行第2次卷积运算，将原本16个的影像，转换为36个影像，卷积运算并不会改变影像大小，所以仍然是14*14大小。\n",
    "model.add(Conv2D(filters=36,\n",
    "                kernel_size=(5,5),\n",
    "                padding='same',#补零\n",
    "                activation='relu'))\n",
    "\n",
    "#建立池化层2\n",
    "#输入参数pool_size=(2,2),执行第2次缩减取样，将36个14*14影像，缩小为36个7*7的影像。\n",
    "model.add(MaxPooling2D(pool_size=(2,2)))\n",
    "\n",
    "#加入Dropout(0.25)层至模型中。其功能是，每次训练迭代时，会随机的在神经网络中放弃25%的神经元，以避免overfitting。\n",
    "model.add(Dropout(0.25))\n",
    "\n",
    "#建立平坦层\n",
    "#之前的步骤已经建立池化层2，共有36个7*7影像，转换为1维的向量，长度是36*7*7=1764，也就是1764个float数字，正好对应到1764个神经元。\n",
    "model.add(Flatten())\n",
    "\n",
    "#建立隐藏层，共有128个神经元\n",
    "model.add(Dense(128,activation='relu'))\n",
    "\n",
    "#加入Dropout(0.5)层至模型中。其功能是，每次训练迭代时，会随机的在神经网络中放弃50%的神经元，以避免overfitting。\n",
    "model.add(Dropout(0.5))\n",
    "\n",
    "#建立输出层\n",
    "#共有10个神经元，对应到0-9共10个数字。并且使用softmax激活函数进行转换，softmax可以将神经元的输出，转换为预测每一个数字的几率。\n",
    "model.add(Dense(10,activation='softmax'))"
   ]
  },
  {
   "cell_type": "code",
   "execution_count": 22,
   "metadata": {},
   "outputs": [
    {
     "name": "stdout",
     "output_type": "stream",
     "text": [
      "Model: \"sequential_2\"\n",
      "_________________________________________________________________\n",
      "Layer (type)                 Output Shape              Param #   \n",
      "=================================================================\n",
      "conv2d_1 (Conv2D)            (None, 28, 28, 16)        416       \n",
      "_________________________________________________________________\n",
      "max_pooling2d_1 (MaxPooling2 (None, 14, 14, 16)        0         \n",
      "_________________________________________________________________\n",
      "conv2d_2 (Conv2D)            (None, 14, 14, 36)        14436     \n",
      "_________________________________________________________________\n",
      "max_pooling2d_2 (MaxPooling2 (None, 7, 7, 36)          0         \n",
      "_________________________________________________________________\n",
      "dropout_3 (Dropout)          (None, 7, 7, 36)          0         \n",
      "_________________________________________________________________\n",
      "flatten_1 (Flatten)          (None, 1764)              0         \n",
      "_________________________________________________________________\n",
      "dense_4 (Dense)              (None, 128)               225920    \n",
      "_________________________________________________________________\n",
      "dropout_4 (Dropout)          (None, 128)               0         \n",
      "_________________________________________________________________\n",
      "dense_5 (Dense)              (None, 10)                1290      \n",
      "=================================================================\n",
      "Total params: 242,062\n",
      "Trainable params: 242,062\n",
      "Non-trainable params: 0\n",
      "_________________________________________________________________\n",
      "None\n"
     ]
    }
   ],
   "source": [
    "#查看模型的摘要\n",
    "print(model.summary())"
   ]
  },
  {
   "cell_type": "code",
   "execution_count": 23,
   "metadata": {},
   "outputs": [],
   "source": [
    "#进行训练\n",
    "#定义训练方式\n",
    "#在模型训练之前，我们必须使用compile方法，对训练模型进行设定\n",
    "model.compile(loss='categorical_crossentropy',\n",
    "             optimizer='adam',metrics=['accuracy'])  #将metrics设为accuracy"
   ]
  },
  {
   "cell_type": "code",
   "execution_count": 24,
   "metadata": {},
   "outputs": [
    {
     "name": "stdout",
     "output_type": "stream",
     "text": [
      "Train on 48000 samples, validate on 12000 samples\n",
      "Epoch 1/10\n",
      " - 4s - loss: 0.4820 - accuracy: 0.8486 - val_loss: 0.0951 - val_accuracy: 0.9731\n",
      "Epoch 2/10\n",
      " - 2s - loss: 0.1300 - accuracy: 0.9613 - val_loss: 0.0625 - val_accuracy: 0.9803\n",
      "Epoch 3/10\n",
      " - 2s - loss: 0.0967 - accuracy: 0.9717 - val_loss: 0.0551 - val_accuracy: 0.9841\n",
      "Epoch 4/10\n",
      " - 2s - loss: 0.0782 - accuracy: 0.9764 - val_loss: 0.0468 - val_accuracy: 0.9858\n",
      "Epoch 5/10\n",
      " - 2s - loss: 0.0638 - accuracy: 0.9807 - val_loss: 0.0395 - val_accuracy: 0.9885\n",
      "Epoch 6/10\n",
      " - 2s - loss: 0.0594 - accuracy: 0.9819 - val_loss: 0.0433 - val_accuracy: 0.9880\n",
      "Epoch 7/10\n",
      " - 2s - loss: 0.0503 - accuracy: 0.9846 - val_loss: 0.0348 - val_accuracy: 0.9900\n",
      "Epoch 8/10\n",
      " - 2s - loss: 0.0492 - accuracy: 0.9852 - val_loss: 0.0350 - val_accuracy: 0.9898\n",
      "Epoch 9/10\n",
      " - 2s - loss: 0.0426 - accuracy: 0.9871 - val_loss: 0.0333 - val_accuracy: 0.9902\n",
      "Epoch 10/10\n",
      " - 2s - loss: 0.0391 - accuracy: 0.9877 - val_loss: 0.0334 - val_accuracy: 0.9908\n"
     ]
    }
   ],
   "source": [
    "#开始训练\n",
    "train_history = model.fit(x=x_train4D_normalize,\n",
    "                       y=y_trainOneHot,validation_split=0.2,\n",
    "                       epochs=10,batch_size=300,verbose=2)"
   ]
  },
  {
   "cell_type": "code",
   "execution_count": 25,
   "metadata": {},
   "outputs": [],
   "source": [
    "#画图\n",
    "import matplotlib.pyplot as plt\n",
    "def show_train_history(train_acc,test_acc):\n",
    "    plt.plot(train_history.history[train_acc])\n",
    "    plt.plot(train_history.history[test_acc])\n",
    "    plt.title('Train History')\n",
    "    plt.ylabel('Accuracy')\n",
    "    plt.xlabel('Epoch')\n",
    "    plt.legend(['train', 'test'], loc='upper left')\n",
    "    plt.show()"
   ]
  },
  {
   "cell_type": "code",
   "execution_count": 26,
   "metadata": {},
   "outputs": [
    {
     "data": {
      "text/plain": [
       "dict_keys(['val_loss', 'val_accuracy', 'loss', 'accuracy'])"
      ]
     },
     "execution_count": 26,
     "metadata": {},
     "output_type": "execute_result"
    }
   ],
   "source": [
    "train_history.history.keys()"
   ]
  },
  {
   "cell_type": "code",
   "execution_count": 27,
   "metadata": {},
   "outputs": [
    {
     "data": {
      "image/png": "[encoded data removed]",
      "text/plain": [
       "<Figure size 432x288 with 1 Axes>"
      ]
     },
     "metadata": {
      "needs_background": "light"
     },
     "output_type": "display_data"
    }
   ],
   "source": [
    "show_train_history('accuracy','val_accuracy')"
   ]
  },
  {
   "cell_type": "markdown",
   "metadata": {},
   "source": [
    "评估模型的准确率"
   ]
  },
  {
   "cell_type": "code",
   "execution_count": 28,
   "metadata": {},
   "outputs": [
    {
     "name": "stdout",
     "output_type": "stream",
     "text": [
      "test set\n",
      "10000/10000 [==============================] - 1s 60us/step\n",
      "\n",
      "The test loss is 0.026383\n"
     ]
    }
   ],
   "source": [
    "print(\"test set\")\n",
    "scores = model.evaluate(x_test4D_normalize , y_testOneHot)\n",
    "print(\"\")\n",
    "print(\"The test loss is %f\" % scores[0])"
   ]
  },
  {
   "cell_type": "markdown",
   "metadata": {},
   "source": [
    "预测结果"
   ]
  },
  {
   "cell_type": "code",
   "execution_count": 29,
   "metadata": {},
   "outputs": [],
   "source": [
    "prediction=model.predict_classes(x_test4D_normalize)"
   ]
  },
  {
   "cell_type": "code",
   "execution_count": 30,
   "metadata": {},
   "outputs": [
    {
     "data": {
      "text/plain": [
       "array([7, 2, 1, 0, 4, 1, 4, 9, 5, 9], dtype=int64)"
      ]
     },
     "execution_count": 30,
     "metadata": {},
     "output_type": "execute_result"
    }
   ],
   "source": [
    "prediction[:10]"
   ]
  },
  {
   "cell_type": "code",
   "execution_count": null,
   "metadata": {},
   "outputs": [],
   "source": []
  },
  {
   "cell_type": "markdown",
   "metadata": {},
   "source": [
    "## 通过对比loss与acc发现，使用卷积层的方法比使用全连接层的方法准确率高 10% 左右，在mnist数据集处理上，使用卷积进行处理比使用全连接方法处理更有效！"
   ]
  },
  {
   "cell_type": "code",
   "execution_count": null,
   "metadata": {},
   "outputs": [],
   "source": []
  }
 ],
 "metadata": {
  "kernelspec": {
   "display_name": "Python 3",
   "language": "python",
   "name": "python3"
  },
  "language_info": {
   "codemirror_mode": {
    "name": "ipython",
    "version": 3
   },
   "file_extension": ".py",
   "mimetype": "text/x-python",
   "name": "python",
   "nbconvert_exporter": "python",
   "pygments_lexer": "ipython3",
   "version": "3.7.3"
  }
 },
 "nbformat": 4,
 "nbformat_minor": 2
}
