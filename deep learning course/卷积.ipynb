{
 "cells": [
  {
   "cell_type": "code",
   "execution_count": 1,
   "metadata": {},
   "outputs": [
    {
     "name": "stderr",
     "output_type": "stream",
     "text": [
      "Using TensorFlow backend.\n"
     ]
    }
   ],
   "source": [
    "from keras.datasets import mnist\n",
    "from keras.utils import np_utils\n",
    "import numpy as np\n",
    "np.random.seed(10)\n",
    "import os\n",
    "\n",
    "os.environ['TF_CPP_MIN_LOG_LEVEL'] = '2' #过滤警告错误"
   ]
  },
  {
   "cell_type": "code",
   "execution_count": 2,
   "metadata": {},
   "outputs": [],
   "source": [
    "(x_train, y_train),(x_test,y_test) = mnist.load_data() #读取MNIST资料"
   ]
  },
  {
   "cell_type": "code",
   "execution_count": 3,
   "metadata": {},
   "outputs": [],
   "source": [
    "#将features（数字影像特征值）以reshape转换为6000*28*28*1的4维矩阵\n",
    "x_train4D = x_train.reshape(x_train.shape[0],28,28,1).astype('float32')\n",
    "x_test4D = x_test.reshape(x_test.shape[0],28,28,1).astype('float32')"
   ]
  },
  {
   "cell_type": "code",
   "execution_count": 4,
   "metadata": {},
   "outputs": [],
   "source": [
    "#将features标准化，可以提高模型预测的准确度，并且更快收敛\n",
    "x_train4D_normalize = x_train4D / 255\n",
    "x_test4D_normalize = x_test4D / 255"
   ]
  },
  {
   "cell_type": "code",
   "execution_count": 5,
   "metadata": {},
   "outputs": [],
   "source": [
    "#使用np_utils.to_categorical, 将训练资料集与测试的label,进行 Onehot encoding 转换\n",
    "y_trainOneHot = np_utils.to_categorical(y_train)\n",
    "y_testOneHot = np_utils.to_categorical(y_test)"
   ]
  },
  {
   "cell_type": "code",
   "execution_count": 6,
   "metadata": {},
   "outputs": [
    {
     "data": {
      "text/plain": [
       "array([7, 2, 1, ..., 4, 5, 6], dtype=uint8)"
      ]
     },
     "execution_count": 6,
     "metadata": {},
     "output_type": "execute_result"
    }
   ],
   "source": [
    "y_test #查看y测试集的标签"
   ]
  },
  {
   "cell_type": "code",
   "execution_count": 7,
   "metadata": {},
   "outputs": [],
   "source": [
    "#建立模型\n",
    "from keras.models import Sequential\n",
    "from keras.layers import Dense,Dropout,Flatten,Conv2D,MaxPooling2D"
   ]
  },
  {
   "cell_type": "code",
   "execution_count": 8,
   "metadata": {},
   "outputs": [
    {
     "name": "stdout",
     "output_type": "stream",
     "text": [
      "WARNING:tensorflow:From D:\\Anaconda\\lib\\site-packages\\keras\\backend\\tensorflow_backend.py:4070: The name tf.nn.max_pool is deprecated. Please use tf.nn.max_pool2d instead.\n",
      "\n"
     ]
    }
   ],
   "source": [
    "#建立keras的Sequential模型（线性堆积模型），后续只需要使用model.add()方法，将各神经网络层加入模型即可\n",
    "model = Sequential()\n",
    "#建立卷积层1.\n",
    "#输入的数字影像是28*28大小，执行第一次卷积运算，会产生16个卷积核，卷积运算并不会改变影像大小，所以仍然是28*28大小。\n",
    "model.add(Conv2D(filters=16,\n",
    "                kernel_size=(5,5),\n",
    "                padding='same',#补零\n",
    "                input_shape=(28,28,1),\n",
    "                activation='relu'))\n",
    "\n",
    "#建立池化层\n",
    "#输入参数pool_size=(2,2),执行第一次缩减取样，将16个28*28影像，缩小为16个14*14的影像。\n",
    "model.add(MaxPooling2D(pool_size=(2,2)))\n",
    "\n",
    "#建立卷积层2.\n",
    "#输入的数字影像是28*28大小，执行第2次卷积运算，将原本16个的影像，转换为36个影像，卷积运算并不会改变影像大小，所以仍然是14*14大小。\n",
    "model.add(Conv2D(filters=36,\n",
    "                kernel_size=(5,5),\n",
    "                padding='same',#补零\n",
    "                activation='relu'))\n",
    "\n",
    "#建立池化层2\n",
    "#输入参数pool_size=(2,2),执行第2次缩减取样，将36个14*14影像，缩小为36个7*7的影像。\n",
    "model.add(MaxPooling2D(pool_size=(2,2)))\n",
    "\n",
    "#加入Dropout(0.25)层至模型中。其功能是，每次训练迭代时，会随机的在神经网络中放弃25%的神经元，以避免overfitting。\n",
    "model.add(Dropout(0.25))\n",
    "\n",
    "#建立平坦层\n",
    "#之前的步骤已经建立池化层2，共有36个7*7影像，转换为1维的向量，长度是36*7*7=1764，也就是1764个float数字，正好对应到1764个神经元。\n",
    "model.add(Flatten())\n",
    "\n",
    "#建立隐藏层，共有128个神经元\n",
    "model.add(Dense(128,activation='relu'))\n",
    "\n",
    "#加入Dropout(0.5)层至模型中。其功能是，每次训练迭代时，会随机的在神经网络中放弃50%的神经元，以避免overfitting。\n",
    "model.add(Dropout(0.5))\n",
    "\n",
    "#建立输出层\n",
    "#共有10个神经元，对应到0-9共10个数字。并且使用softmax激活函数进行转换，softmax可以将神经元的输出，转换为预测每一个数字的几率。\n",
    "model.add(Dense(10,activation='softmax'))"
   ]
  },
  {
   "cell_type": "code",
   "execution_count": 9,
   "metadata": {},
   "outputs": [
    {
     "name": "stdout",
     "output_type": "stream",
     "text": [
      "Model: \"sequential_1\"\n",
      "_________________________________________________________________\n",
      "Layer (type)                 Output Shape              Param #   \n",
      "=================================================================\n",
      "conv2d_1 (Conv2D)            (None, 28, 28, 16)        416       \n",
      "_________________________________________________________________\n",
      "max_pooling2d_1 (MaxPooling2 (None, 14, 14, 16)        0         \n",
      "_________________________________________________________________\n",
      "conv2d_2 (Conv2D)            (None, 14, 14, 36)        14436     \n",
      "_________________________________________________________________\n",
      "max_pooling2d_2 (MaxPooling2 (None, 7, 7, 36)          0         \n",
      "_________________________________________________________________\n",
      "dropout_1 (Dropout)          (None, 7, 7, 36)          0         \n",
      "_________________________________________________________________\n",
      "flatten_1 (Flatten)          (None, 1764)              0         \n",
      "_________________________________________________________________\n",
      "dense_1 (Dense)              (None, 128)               225920    \n",
      "_________________________________________________________________\n",
      "dropout_2 (Dropout)          (None, 128)               0         \n",
      "_________________________________________________________________\n",
      "dense_2 (Dense)              (None, 10)                1290      \n",
      "=================================================================\n",
      "Total params: 242,062\n",
      "Trainable params: 242,062\n",
      "Non-trainable params: 0\n",
      "_________________________________________________________________\n",
      "None\n"
     ]
    }
   ],
   "source": [
    "#查看模型的摘要\n",
    "print(model.summary())"
   ]
  },
  {
   "cell_type": "code",
   "execution_count": 10,
   "metadata": {},
   "outputs": [],
   "source": [
    "#进行训练\n",
    "#定义训练方式\n",
    "#在模型训练之前，我们必须使用compile方法，对训练模型进行设定\n",
    "model.compile(loss='categorical_crossentropy',\n",
    "             optimizer='adam',metrics=['accuracy'])  #将metrics设为accuracy"
   ]
  },
  {
   "cell_type": "code",
   "execution_count": 11,
   "metadata": {},
   "outputs": [
    {
     "name": "stdout",
     "output_type": "stream",
     "text": [
      "WARNING:tensorflow:From D:\\Anaconda\\lib\\site-packages\\keras\\backend\\tensorflow_backend.py:422: The name tf.global_variables is deprecated. Please use tf.compat.v1.global_variables instead.\n",
      "\n",
      "Train on 48000 samples, validate on 12000 samples\n",
      "Epoch 1/10\n",
      " - 6s - loss: 0.4671 - accuracy: 0.8540 - val_loss: 0.1012 - val_accuracy: 0.9693\n",
      "Epoch 2/10\n",
      " - 2s - loss: 0.1336 - accuracy: 0.9600 - val_loss: 0.0655 - val_accuracy: 0.9808\n",
      "Epoch 3/10\n",
      " - 2s - loss: 0.1005 - accuracy: 0.9689 - val_loss: 0.0552 - val_accuracy: 0.9842\n",
      "Epoch 4/10\n",
      " - 2s - loss: 0.0809 - accuracy: 0.9756 - val_loss: 0.0481 - val_accuracy: 0.9862\n",
      "Epoch 5/10\n",
      " - 2s - loss: 0.0712 - accuracy: 0.9781 - val_loss: 0.0432 - val_accuracy: 0.9879\n",
      "Epoch 6/10\n",
      " - 2s - loss: 0.0639 - accuracy: 0.9810 - val_loss: 0.0419 - val_accuracy: 0.9879\n",
      "Epoch 7/10\n",
      " - 2s - loss: 0.0546 - accuracy: 0.9830 - val_loss: 0.0368 - val_accuracy: 0.9893\n",
      "Epoch 8/10\n",
      " - 2s - loss: 0.0498 - accuracy: 0.9850 - val_loss: 0.0365 - val_accuracy: 0.9901\n",
      "Epoch 9/10\n",
      " - 2s - loss: 0.0459 - accuracy: 0.9861 - val_loss: 0.0346 - val_accuracy: 0.9911\n",
      "Epoch 10/10\n",
      " - 2s - loss: 0.0436 - accuracy: 0.9865 - val_loss: 0.0313 - val_accuracy: 0.9921\n"
     ]
    }
   ],
   "source": [
    "#开始训练\n",
    "train_history = model.fit(x=x_train4D_normalize,\n",
    "                       y=y_trainOneHot,validation_split=0.2,\n",
    "                       epochs=10,batch_size=300,verbose=2)"
   ]
  },
  {
   "cell_type": "code",
   "execution_count": 12,
   "metadata": {},
   "outputs": [],
   "source": [
    "#画图\n",
    "import matplotlib.pyplot as plt\n",
    "def show_train_history(train_acc,test_acc):\n",
    "    plt.plot(train_history.history[train_acc])\n",
    "    plt.plot(train_history.history[test_acc])\n",
    "    plt.title('Train History')\n",
    "    plt.ylabel('Accuracy')\n",
    "    plt.xlabel('Epoch')\n",
    "    plt.legend(['train', 'test'], loc='upper left')\n",
    "    plt.show()"
   ]
  },
  {
   "cell_type": "code",
   "execution_count": 13,
   "metadata": {},
   "outputs": [
    {
     "data": {
      "text/plain": [
       "dict_keys(['val_loss', 'val_accuracy', 'loss', 'accuracy'])"
      ]
     },
     "execution_count": 13,
     "metadata": {},
     "output_type": "execute_result"
    }
   ],
   "source": [
    "train_history.history.keys()"
   ]
  },
  {
   "cell_type": "code",
   "execution_count": 14,
   "metadata": {},
   "outputs": [
    {
     "data": {
      "image/png": "[encoded data removed]",
      "text/plain": [
       "<Figure size 432x288 with 1 Axes>"
      ]
     },
     "metadata": {
      "needs_background": "light"
     },
     "output_type": "display_data"
    }
   ],
   "source": [
    "show_train_history('accuracy','val_accuracy')"
   ]
  },
  {
   "cell_type": "markdown",
   "metadata": {},
   "source": [
    "评估模型的准确率"
   ]
  },
  {
   "cell_type": "code",
   "execution_count": 15,
   "metadata": {},
   "outputs": [
    {
     "name": "stdout",
     "output_type": "stream",
     "text": [
      "test set\n",
      "10000/10000 [==============================] - 1s 79us/step\n",
      "\n",
      "The test loss is 0.992100\n"
     ]
    }
   ],
   "source": [
    "print(\"test set\")\n",
    "scores = model.evaluate(x_test4D_normalize , y_testOneHot)\n",
    "print(\"\")\n",
    "print(\"The test loss is %f\" % scores[1])"
   ]
  },
  {
   "cell_type": "markdown",
   "metadata": {},
   "source": [
    "预测结果"
   ]
  },
  {
   "cell_type": "code",
   "execution_count": 16,
   "metadata": {},
   "outputs": [],
   "source": [
    "prediction=model.predict_classes(x_test4D_normalize)"
   ]
  },
  {
   "cell_type": "code",
   "execution_count": 17,
   "metadata": {},
   "outputs": [
    {
     "data": {
      "text/plain": [
       "array([7, 2, 1, 0, 4, 1, 4, 9, 5, 9], dtype=int64)"
      ]
     },
     "execution_count": 17,
     "metadata": {},
     "output_type": "execute_result"
    }
   ],
   "source": [
    "prediction[:10]"
   ]
  }
 ],
 "metadata": {
  "kernelspec": {
   "display_name": "Python 3",
   "language": "python",
   "name": "python3"
  },
  "language_info": {
   "codemirror_mode": {
    "name": "ipython",
    "version": 3
   },
   "file_extension": ".py",
   "mimetype": "text/x-python",
   "name": "python",
   "nbconvert_exporter": "python",
   "pygments_lexer": "ipython3",
   "version": "3.7.3"
  }
 },
 "nbformat": 4,
 "nbformat_minor": 2
}
