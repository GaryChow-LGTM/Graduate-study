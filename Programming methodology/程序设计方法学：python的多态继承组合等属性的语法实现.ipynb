{
 "cells": [
  {
   "cell_type": "code",
   "execution_count": 1,
   "metadata": {},
   "outputs": [
    {
     "name": "stdout",
     "output_type": "stream",
     "text": [
      "核心组件\n",
      "显示组件\n"
     ]
    }
   ],
   "source": [
    "class Phone:\n",
    "    def __init__(self,cpu,screen):\n",
    "        self.cpu = cpu\n",
    "        self.screen = screen\n",
    "class CPU:\n",
    "    def calculate(self):\n",
    "        print('核心组件')\n",
    "class Screen:\n",
    "    def show(self):\n",
    "        print('显示组件')\n",
    "c = CPU()\n",
    "s = Screen()\n",
    "p = Phone(c,s)\n",
    "p.cpu.calculate()\n",
    "p.screen.show()"
   ]
  },
  {
   "cell_type": "code",
   "execution_count": 8,
   "metadata": {},
   "outputs": [
    {
     "name": "stdout",
     "output_type": "stream",
     "text": [
      "AB fighting\n",
      "AB sleeping\n",
      "My name is AB weight 3.00\n",
      "CD sleeping\n",
      "CD fighting\n",
      "My name is AB weight 3.00\n",
      "My name is CD weight 1.50\n"
     ]
    }
   ],
   "source": [
    "class Person:\n",
    "    def __init__(self, name, weight):\n",
    "        # 在初始化方法中增加两个参数由外界传递\n",
    "        # self.属性 = 形参\n",
    "        self.name = name\n",
    "        self.weight = weight\n",
    "\n",
    "    def __str__(self):\n",
    "        return 'My name is %s weight %.2f' % (self.name, self.weight)\n",
    "\n",
    "    def run(self):\n",
    "        # pass\n",
    "        print ('%s fighting' % self.name)\n",
    "        # 在对象方法的内部，是可以直接访问对象的属性\n",
    "        self.weight -= 0.5\n",
    "    def Sleep(self):\n",
    "        #pass\n",
    "        print ('%s sleeping' % self.name)\n",
    "        self.weight += 1\n",
    "        \n",
    "AB = Person('AB',2.5)\n",
    "AB.run()\n",
    "AB.Sleep()\n",
    "print (AB)\n",
    "\n",
    "CD = Person('CD',1.0)\n",
    "CD.Sleep()\n",
    "CD.run()\n",
    "\n",
    "# 同一个类创建的多个对象之间，属性互不干扰\n",
    "print (AB)\n",
    "print (CD)"
   ]
  },
  {
   "cell_type": "code",
   "execution_count": 11,
   "metadata": {},
   "outputs": [
    {
     "name": "stdout",
     "output_type": "stream",
     "text": [
      "go!!! [Ryan]\n",
      "[AK47] 突突突...[49]\n"
     ]
    }
   ],
   "source": [
    "class Gun:\n",
    "    def __init__(self, model):\n",
    "        # 枪的型号\n",
    "        self.model = model\n",
    "        # 子弹的数量\n",
    "        self.bullet_count = 0\n",
    "        \n",
    "    def add_bullet(self,count):\n",
    "        self.bullet_count += count\n",
    "        \n",
    "    # 只要子弹的数量足够，就能发射，所有shoot方法不需要传递参数\n",
    "    def shoot(self):\n",
    "        # 1.判断子弹的数量\n",
    "        if self.bullet_count <= 0:\n",
    "            print ('[%s] 没有子弹了...' %self.model)\n",
    "            return\n",
    "        \n",
    "        # 2.发射子弹，子弹数量-1\n",
    "        self.bullet_count -= 1\n",
    "        \n",
    "        # 3.提示发射信息\n",
    "        print ('[%s] 突突突...[%d]' %(self.model,self.bullet_count))\n",
    "\n",
    "class Soldier:\n",
    "    def __init__(self,name):\n",
    "        self.name = name\n",
    "        # 定义属性的时候，如果不知道设置什么初始值，可以设置为None\n",
    "        # None关键字表示什么都没有，表示一个空对象，没有方法和属性\n",
    "        # 是一个特殊的常量，可以将None赋值给任何一个变量\n",
    "        self.gun = None\n",
    "\n",
    "    def fire(self):\n",
    "        # 1.判断士兵是否有枪\n",
    "        if self.gun == None:\n",
    "            print ('[%s] 还没有枪...' %self.name)\n",
    "            return\n",
    "        print ('go!!! [%s]' %self.name)\n",
    "        self.gun.add_bullet(50)\n",
    "        self.gun.shoot()\n",
    "\n",
    "# 1.创建枪对象\n",
    "ak = Gun('AK47') #将AK47赋予Gun的model\n",
    "# 2.创建瑞恩   # 枪不能自己发射子弹，枪不能自己开火 需要士兵去完成\n",
    "ryan = Soldier('Ryan')  #将Ryan赋予Soldier中的name\n",
    "ryan.gun = ak  #将枪对象赋予Soldier中的gun\n",
    "ryan.fire()"
   ]
  },
  {
   "cell_type": "code",
   "execution_count": 14,
   "metadata": {},
   "outputs": [
    {
     "name": "stdout",
     "output_type": "stream",
     "text": [
      "男\n"
     ]
    }
   ],
   "source": [
    "class MyClass:\n",
    "    __gender = \"男\"  # 私有静态属性\n",
    "\n",
    "    def __init__(self, name, age):\n",
    "        self.name = name\n",
    "        self.age = age\n",
    "\n",
    "    def get_gender(self):\n",
    "        return self.__gender    # 在类的内部可以访问私有静态属性\n",
    "\n",
    "# print(MyClass.__gender)     # 类名不能直接访问私有静态属性\n",
    "\n",
    "obj = MyClass(\"oldniu\", 20)\n",
    "# print(obj.__gneder)         # 对象不能访问私有静态属性\n",
    "\n",
    "print(obj.get_gender())     # 男"
   ]
  },
  {
   "cell_type": "code",
   "execution_count": 20,
   "metadata": {},
   "outputs": [
    {
     "name": "stdout",
     "output_type": "stream",
     "text": [
      "test1\n"
     ]
    },
    {
     "data": {
      "text/plain": [
       "'obj.__func()'"
      ]
     },
     "execution_count": 20,
     "metadata": {},
     "output_type": "execute_result"
    }
   ],
   "source": [
    "class MyClass:\n",
    "\n",
    "    def __init__(self, name, age):\n",
    "        self.name = name\n",
    "        self.age = age\n",
    "\n",
    "    def __func(self):\n",
    "        print(\"test1\")\n",
    "\n",
    "    def func(self):\n",
    "        self.__func() #类内部访问静态方法\n",
    "\n",
    "obj = MyClass(\"test2\", 20)\n",
    "obj.func()\n",
    "\"obj.__func()\"\n",
    "# 私有方法和私有静态字段一样，只能在本类中内部访问，类的外部和子类均不课访问。"
   ]
  },
  {
   "cell_type": "code",
   "execution_count": 24,
   "metadata": {},
   "outputs": [
    {
     "name": "stdout",
     "output_type": "stream",
     "text": [
      "study\n",
      "practice\n",
      "callcallcall\n"
     ]
    }
   ],
   "source": [
    "class Student:  #定义父类\n",
    "    def study(self):\n",
    "        print ('study')\n",
    "    def practice(self):\n",
    "        print ('practice')\n",
    "\n",
    "\n",
    "class homie(Student):\n",
    "    # 子类拥有父类的所有属性和方法\n",
    "    def call(self):\n",
    "        print ('callcallcall')\n",
    "\n",
    "\n",
    "A = homie()\n",
    "A.study()\n",
    "A.practice()\n",
    "A.call()\n",
    "# 子类继承自父类，可以直接享受父类中已经封装好的方法"
   ]
  },
  {
   "cell_type": "code",
   "execution_count": 30,
   "metadata": {},
   "outputs": [
    {
     "name": "stdout",
     "output_type": "stream",
     "text": [
      "n1\n",
      "n2\n",
      "n3\n"
     ]
    }
   ],
   "source": [
    "class Student:\n",
    "    def n1(self):\n",
    "        print ('n1')\n",
    "\n",
    "\n",
    "class homie(Student):\n",
    "    # 子类拥有父类的所有属性和方法\n",
    "    def n2(self):\n",
    "        print ('n2')\n",
    "\n",
    "\n",
    "class homie1(homie):  # 继承的传递性 子类拥有父类的父类的属性和方法\n",
    "    def n3(self):\n",
    "        print ('n3')\n",
    "\n",
    "\n",
    "B=homie1()\n",
    "B.n1()\n",
    "B.n2()\n",
    "B.n3()"
   ]
  },
  {
   "cell_type": "code",
   "execution_count": 38,
   "metadata": {},
   "outputs": [
    {
     "name": "stdout",
     "output_type": "stream",
     "text": [
      "Hello 2\n",
      "Hello 3\n"
     ]
    },
    {
     "data": {
      "text/plain": [
       "'\\n输出结果：\\nhalou-----2\\nhalou-----3\\n'"
      ]
     },
     "execution_count": 38,
     "metadata": {},
     "output_type": "execute_result"
    }
   ],
   "source": [
    "class n1:\n",
    "    def sayHello(self):\n",
    "        print(\"Hello 1\")\n",
    "\n",
    "class n2(n1):\n",
    "    def sayHello(self):\n",
    "        print(\"Hello 2\")\n",
    "        \n",
    "class n3(n1):\n",
    "    def sayHello(self):\n",
    "        print(\"Hello 3\")\n",
    "\n",
    "\n",
    "x2 = n2()\n",
    "x2.sayHello()\n",
    "\n",
    "x3= n3()\n",
    "x3.sayHello()\n",
    "\"\"\"\n",
    "输出结果：\n",
    "halou-----2\n",
    "halou-----3\n",
    "\"\"\""
   ]
  },
  {
   "cell_type": "code",
   "execution_count": 41,
   "metadata": {},
   "outputs": [
    {
     "name": "stdout",
     "output_type": "stream",
     "text": [
      "B--test\n",
      "B--demo\n"
     ]
    }
   ],
   "source": [
    "class A:\n",
    "    def test(self):\n",
    "        print ('A--test')\n",
    "    def demo(self):\n",
    "        print ('A--demo')\n",
    "class B:\n",
    "    def test(self):\n",
    "        print ('B--test')\n",
    "    def demo(self):\n",
    "        print ('B--demo')\n",
    "\n",
    "\n",
    "\n",
    "\n",
    "class C(B,A):  #谁在前面调用谁，当然也可以指定调用父类的方法\n",
    "    \"\"\"多继承可以让子类对象，同时具有多个父类的属性和方法\"\"\"\n",
    "    pass\n",
    "\n",
    "# 创建子类对象\n",
    "c = C()\n",
    "c.test()\n",
    "c.demo()"
   ]
  },
  {
   "cell_type": "code",
   "execution_count": 42,
   "metadata": {},
   "outputs": [],
   "source": [
    "class IOrderRepository:\n",
    " \n",
    "    def fetch_one_by(self,nid):\n",
    "        raise Exception('子类中必须实现该方法')\n",
    " \n",
    "class Something(IOrderRepository):\n",
    " \n",
    "    def fet_one_by(self,nid):\n",
    "        print('查查查数据....')"
   ]
  },
  {
   "cell_type": "code",
   "execution_count": 3,
   "metadata": {},
   "outputs": [
    {
     "name": "stdout",
     "output_type": "stream",
     "text": [
      "AB fighting\n",
      "My name is AB weight 2.00\n"
     ]
    }
   ],
   "source": [
    "class Person:\n",
    "    def __init__(self, name, weight):\n",
    "        # 在初始化方法中增加两个参数由外界传递\n",
    "        # self.属性 = 形参\n",
    "        self.name = name\n",
    "        self.weight = weight\n",
    "\n",
    "    def __str__(self):\n",
    "        return 'My name is %s weight %.2f' % (self.name, self.weight)\n",
    "\n",
    "    def run(self):\n",
    "        # pass\n",
    "        print ('%s fighting' % self.name)\n",
    "        # 在对象方法的内部，是可以直接访问对象的属性\n",
    "        self.weight -= 0.5\n",
    "        \n",
    "AB = Person('AB',2.5)\n",
    "AB.run()\n",
    "print (AB)\n"
   ]
  },
  {
   "cell_type": "code",
   "execution_count": null,
   "metadata": {},
   "outputs": [],
   "source": []
  }
 ],
 "metadata": {
  "kernelspec": {
   "display_name": "Python 3",
   "language": "python",
   "name": "python3"
  },
  "language_info": {
   "codemirror_mode": {
    "name": "ipython",
    "version": 3
   },
   "file_extension": ".py",
   "mimetype": "text/x-python",
   "name": "python",
   "nbconvert_exporter": "python",
   "pygments_lexer": "ipython3",
   "version": "3.7.3"
  }
 },
 "nbformat": 4,
 "nbformat_minor": 2
}
